{
 "cells": [
  {
   "cell_type": "markdown",
   "metadata": {},
   "source": [
    "## PACKAGES "
   ]
  },
  {
   "cell_type": "code",
   "execution_count": 2,
   "metadata": {},
   "outputs": [],
   "source": [
    "import pandas as pd \n",
    "import numpy as np \n",
    "import matplotlib.pyplot as plt \n",
    "import seaborn as sns\n",
    "from sklearn.compose import make_column_selector\n",
    "from sklearn.compose import make_column_transformer\n",
    "from sklearn.pipeline import make_pipeline\n",
    "from sklearn.impute import SimpleImputer\n",
    "from sklearn.preprocessing import StandardScaler\n",
    "from sklearn.preprocessing import OneHotEncoder\n",
    "from sklearn.linear_model import LinearRegression\n",
    "from sklearn.model_selection import train_test_split\n",
    "from sklearn.svm import SVR\n",
    "from sklearn import tree\n",
    "from sklearn.ensemble import RandomForestRegressor\n",
    "from sklearn.model_selection import cross_val_score\n",
    "from sklearn.metrics import mean_squared_error\n",
    "from sklearn.model_selection import GridSearchCV\n",
    "import time "
   ]
  },
  {
   "cell_type": "markdown",
   "metadata": {},
   "source": [
    "# Dataset "
   ]
  },
  {
   "cell_type": "markdown",
   "metadata": {},
   "source": [
    "https://www.kaggle.com/mariaren/covid19-healthy-diet-dataset"
   ]
  },
  {
   "cell_type": "markdown",
   "metadata": {},
   "source": [
    "# Problem definition "
   ]
  },
  {
   "cell_type": "markdown",
   "metadata": {},
   "source": [
    "We chose a dataset combining different types of food, world population obesity and undernourished rate, and global covid cases count from around the world.\n",
    "\n",
    "The idea is to understand how a healthy eating style could help combat the coronavirus, distinguishing the diet patterns from countries with lower COVID infection rate.\n",
    "\n",
    "Our goal here is to provide diet recommendations base on our findings.\n",
    "\n",
    "Each dataset provides different diet measure different categories of food, depending on what we want to focus on, so we have\n",
    "\n",
    "- fat quantity,\n",
    "- energy intake (kcal),\n",
    "- food supply quantity (kg),\n",
    "- protein for different categories of food\n",
    "\n",
    "To which have been added:\n",
    "\n",
    "- obesity rate\n",
    "- undernourished rate\n",
    "- the most up to date confirmed/deaths/recovered/active cases.\n",
    "\n",
    "We are going to focus on the fat quantity dataset."
   ]
  },
  {
   "cell_type": "markdown",
   "metadata": {},
   "source": [
    "Let's start by loading the data"
   ]
  },
  {
   "cell_type": "code",
   "execution_count": 7,
   "metadata": {},
   "outputs": [],
   "source": [
    "fat_quantity = pd.read_csv(\"./data/Fat_Supply_Quantity_Data.csv\")\n",
    "# Copying DataFrame \n",
    "df_fat = fat_quantity.copy()"
   ]
  },
  {
   "cell_type": "code",
   "execution_count": 9,
   "metadata": {},
   "outputs": [],
   "source": [
    "# setting columns and rows that can be displayed  \n",
    "pd.set_option('display.max_row', 150)\n",
    "pd.set_option('display.max_columns', 50)"
   ]
  },
  {
   "cell_type": "markdown",
   "metadata": {},
   "source": [
    " ## Data Exploration and Processing"
   ]
  },
  {
   "cell_type": "markdown",
   "metadata": {},
   "source": [
    "Now let's explore the dataset:\n",
    "- check the head\n",
    "- the columns\n",
    "- the variable types"
   ]
  },
  {
   "cell_type": "code",
   "execution_count": 42,
   "metadata": {},
   "outputs": [
    {
     "name": "stdout",
     "output_type": "stream",
     "text": [
      "df shape (170, 31)\n",
      "\n"
     ]
    },
    {
     "data": {
      "text/plain": [
       "'column names :'"
      ]
     },
     "metadata": {},
     "output_type": "display_data"
    },
    {
     "data": {
      "text/plain": [
       "Index(['Country', 'Alcoholic Beverages', 'Animal Products', 'Animal fats',\n",
       "       'Aquatic Products, Other', 'Cereals - Excluding Beer', 'Eggs',\n",
       "       'Fish, Seafood', 'Fruits - Excluding Wine', 'Meat', 'Miscellaneous',\n",
       "       'Milk - Excluding Butter', 'Offals', 'Oilcrops', 'Pulses', 'Spices',\n",
       "       'Starchy Roots', 'Stimulants', 'Sugar Crops', 'Sugar & Sweeteners',\n",
       "       'Treenuts', 'Vegetal Products', 'Vegetable Oils', 'Vegetables',\n",
       "       'Obesity', 'Undernourished', 'Confirmed', 'Deaths', 'Recovered',\n",
       "       'Active', 'Population'],\n",
       "      dtype='object')"
      ]
     },
     "metadata": {},
     "output_type": "display_data"
    },
    {
     "name": "stdout",
     "output_type": "stream",
     "text": [
      "\n"
     ]
    },
    {
     "data": {
      "text/html": [
       "<div>\n",
       "<style scoped>\n",
       "    .dataframe tbody tr th:only-of-type {\n",
       "        vertical-align: middle;\n",
       "    }\n",
       "\n",
       "    .dataframe tbody tr th {\n",
       "        vertical-align: top;\n",
       "    }\n",
       "\n",
       "    .dataframe thead th {\n",
       "        text-align: right;\n",
       "    }\n",
       "</style>\n",
       "<table border=\"1\" class=\"dataframe\">\n",
       "  <thead>\n",
       "    <tr style=\"text-align: right;\">\n",
       "      <th></th>\n",
       "      <th>Country</th>\n",
       "      <th>Alcoholic Beverages</th>\n",
       "      <th>Animal Products</th>\n",
       "      <th>Animal fats</th>\n",
       "      <th>Aquatic Products, Other</th>\n",
       "      <th>Cereals - Excluding Beer</th>\n",
       "      <th>Eggs</th>\n",
       "      <th>Fish, Seafood</th>\n",
       "      <th>Fruits - Excluding Wine</th>\n",
       "      <th>Meat</th>\n",
       "      <th>Miscellaneous</th>\n",
       "      <th>Milk - Excluding Butter</th>\n",
       "      <th>Offals</th>\n",
       "      <th>Oilcrops</th>\n",
       "      <th>Pulses</th>\n",
       "      <th>Spices</th>\n",
       "      <th>Starchy Roots</th>\n",
       "      <th>Stimulants</th>\n",
       "      <th>Sugar Crops</th>\n",
       "      <th>Sugar &amp; Sweeteners</th>\n",
       "      <th>Treenuts</th>\n",
       "      <th>Vegetal Products</th>\n",
       "      <th>Vegetable Oils</th>\n",
       "      <th>Vegetables</th>\n",
       "      <th>Obesity</th>\n",
       "      <th>Undernourished</th>\n",
       "      <th>Confirmed</th>\n",
       "      <th>Deaths</th>\n",
       "      <th>Recovered</th>\n",
       "      <th>Active</th>\n",
       "      <th>Population</th>\n",
       "    </tr>\n",
       "  </thead>\n",
       "  <tbody>\n",
       "    <tr>\n",
       "      <th>0</th>\n",
       "      <td>Afghanistan</td>\n",
       "      <td>0.0</td>\n",
       "      <td>21.6397</td>\n",
       "      <td>6.2224</td>\n",
       "      <td>0.0</td>\n",
       "      <td>8.0353</td>\n",
       "      <td>0.6859</td>\n",
       "      <td>0.0327</td>\n",
       "      <td>0.4246</td>\n",
       "      <td>6.1244</td>\n",
       "      <td>0.0163</td>\n",
       "      <td>8.2803</td>\n",
       "      <td>0.3103</td>\n",
       "      <td>1.0452</td>\n",
       "      <td>0.1960</td>\n",
       "      <td>0.2776</td>\n",
       "      <td>0.0490</td>\n",
       "      <td>0.0980</td>\n",
       "      <td>0.0</td>\n",
       "      <td>0.0</td>\n",
       "      <td>0.7513</td>\n",
       "      <td>28.3684</td>\n",
       "      <td>17.0831</td>\n",
       "      <td>0.3593</td>\n",
       "      <td>4.5</td>\n",
       "      <td>29.8</td>\n",
       "      <td>0.125149</td>\n",
       "      <td>0.005058</td>\n",
       "      <td>0.098263</td>\n",
       "      <td>0.021827</td>\n",
       "      <td>38928000.0</td>\n",
       "    </tr>\n",
       "    <tr>\n",
       "      <th>1</th>\n",
       "      <td>Albania</td>\n",
       "      <td>0.0</td>\n",
       "      <td>32.0002</td>\n",
       "      <td>3.4172</td>\n",
       "      <td>0.0</td>\n",
       "      <td>2.6734</td>\n",
       "      <td>1.6448</td>\n",
       "      <td>0.1445</td>\n",
       "      <td>0.6418</td>\n",
       "      <td>8.7428</td>\n",
       "      <td>0.0170</td>\n",
       "      <td>17.7576</td>\n",
       "      <td>0.2933</td>\n",
       "      <td>3.1622</td>\n",
       "      <td>0.1148</td>\n",
       "      <td>0.0000</td>\n",
       "      <td>0.0510</td>\n",
       "      <td>0.5270</td>\n",
       "      <td>0.0</td>\n",
       "      <td>0.0</td>\n",
       "      <td>0.9181</td>\n",
       "      <td>17.9998</td>\n",
       "      <td>9.2443</td>\n",
       "      <td>0.6503</td>\n",
       "      <td>22.3</td>\n",
       "      <td>6.2</td>\n",
       "      <td>1.733298</td>\n",
       "      <td>0.035800</td>\n",
       "      <td>0.874560</td>\n",
       "      <td>0.822939</td>\n",
       "      <td>2838000.0</td>\n",
       "    </tr>\n",
       "    <tr>\n",
       "      <th>2</th>\n",
       "      <td>Algeria</td>\n",
       "      <td>0.0</td>\n",
       "      <td>14.4175</td>\n",
       "      <td>0.8972</td>\n",
       "      <td>0.0</td>\n",
       "      <td>4.2035</td>\n",
       "      <td>1.2171</td>\n",
       "      <td>0.2008</td>\n",
       "      <td>0.5772</td>\n",
       "      <td>3.8961</td>\n",
       "      <td>0.0439</td>\n",
       "      <td>8.0934</td>\n",
       "      <td>0.1067</td>\n",
       "      <td>1.1983</td>\n",
       "      <td>0.2698</td>\n",
       "      <td>0.1568</td>\n",
       "      <td>0.1129</td>\n",
       "      <td>0.2886</td>\n",
       "      <td>0.0</td>\n",
       "      <td>0.0</td>\n",
       "      <td>0.8595</td>\n",
       "      <td>35.5857</td>\n",
       "      <td>27.3606</td>\n",
       "      <td>0.5145</td>\n",
       "      <td>26.6</td>\n",
       "      <td>3.9</td>\n",
       "      <td>0.208754</td>\n",
       "      <td>0.005882</td>\n",
       "      <td>0.137268</td>\n",
       "      <td>0.065604</td>\n",
       "      <td>44357000.0</td>\n",
       "    </tr>\n",
       "    <tr>\n",
       "      <th>3</th>\n",
       "      <td>Angola</td>\n",
       "      <td>0.0</td>\n",
       "      <td>15.3041</td>\n",
       "      <td>1.3130</td>\n",
       "      <td>0.0</td>\n",
       "      <td>6.5545</td>\n",
       "      <td>0.1539</td>\n",
       "      <td>1.4155</td>\n",
       "      <td>0.3488</td>\n",
       "      <td>11.0268</td>\n",
       "      <td>0.0308</td>\n",
       "      <td>1.2309</td>\n",
       "      <td>0.1539</td>\n",
       "      <td>3.9902</td>\n",
       "      <td>0.3282</td>\n",
       "      <td>0.0103</td>\n",
       "      <td>0.7078</td>\n",
       "      <td>0.1128</td>\n",
       "      <td>0.0</td>\n",
       "      <td>0.0</td>\n",
       "      <td>0.0308</td>\n",
       "      <td>34.7010</td>\n",
       "      <td>22.4638</td>\n",
       "      <td>0.1231</td>\n",
       "      <td>6.8</td>\n",
       "      <td>25</td>\n",
       "      <td>0.050049</td>\n",
       "      <td>0.001144</td>\n",
       "      <td>0.027440</td>\n",
       "      <td>0.021465</td>\n",
       "      <td>32522000.0</td>\n",
       "    </tr>\n",
       "    <tr>\n",
       "      <th>4</th>\n",
       "      <td>Antigua and Barbuda</td>\n",
       "      <td>0.0</td>\n",
       "      <td>27.7033</td>\n",
       "      <td>4.6686</td>\n",
       "      <td>0.0</td>\n",
       "      <td>3.2153</td>\n",
       "      <td>0.3872</td>\n",
       "      <td>1.5263</td>\n",
       "      <td>1.2177</td>\n",
       "      <td>14.3202</td>\n",
       "      <td>0.0898</td>\n",
       "      <td>6.6607</td>\n",
       "      <td>0.1347</td>\n",
       "      <td>1.3579</td>\n",
       "      <td>0.0673</td>\n",
       "      <td>0.3591</td>\n",
       "      <td>0.0449</td>\n",
       "      <td>1.0549</td>\n",
       "      <td>0.0</td>\n",
       "      <td>0.0</td>\n",
       "      <td>0.2020</td>\n",
       "      <td>22.2995</td>\n",
       "      <td>14.4436</td>\n",
       "      <td>0.2469</td>\n",
       "      <td>19.1</td>\n",
       "      <td>NaN</td>\n",
       "      <td>0.151020</td>\n",
       "      <td>0.005102</td>\n",
       "      <td>0.140816</td>\n",
       "      <td>0.005102</td>\n",
       "      <td>98000.0</td>\n",
       "    </tr>\n",
       "    <tr>\n",
       "      <th>5</th>\n",
       "      <td>Argentina</td>\n",
       "      <td>0.0</td>\n",
       "      <td>30.3572</td>\n",
       "      <td>3.3076</td>\n",
       "      <td>0.0</td>\n",
       "      <td>1.3316</td>\n",
       "      <td>1.5706</td>\n",
       "      <td>0.1664</td>\n",
       "      <td>0.2091</td>\n",
       "      <td>19.2693</td>\n",
       "      <td>0.0000</td>\n",
       "      <td>5.8512</td>\n",
       "      <td>0.1878</td>\n",
       "      <td>0.0640</td>\n",
       "      <td>0.0213</td>\n",
       "      <td>0.0213</td>\n",
       "      <td>0.1110</td>\n",
       "      <td>0.2475</td>\n",
       "      <td>0.0</td>\n",
       "      <td>0.0</td>\n",
       "      <td>0.1366</td>\n",
       "      <td>19.6449</td>\n",
       "      <td>17.3147</td>\n",
       "      <td>0.1878</td>\n",
       "      <td>28.5</td>\n",
       "      <td>4.6</td>\n",
       "      <td>3.312740</td>\n",
       "      <td>0.090444</td>\n",
       "      <td>2.953302</td>\n",
       "      <td>0.268993</td>\n",
       "      <td>45377000.0</td>\n",
       "    </tr>\n",
       "    <tr>\n",
       "      <th>6</th>\n",
       "      <td>Armenia</td>\n",
       "      <td>0.0</td>\n",
       "      <td>29.6642</td>\n",
       "      <td>6.2619</td>\n",
       "      <td>0.0</td>\n",
       "      <td>2.5068</td>\n",
       "      <td>1.6196</td>\n",
       "      <td>0.2218</td>\n",
       "      <td>0.5468</td>\n",
       "      <td>10.8165</td>\n",
       "      <td>0.0361</td>\n",
       "      <td>10.4709</td>\n",
       "      <td>0.2734</td>\n",
       "      <td>0.6602</td>\n",
       "      <td>0.0774</td>\n",
       "      <td>0.0103</td>\n",
       "      <td>0.0567</td>\n",
       "      <td>1.8002</td>\n",
       "      <td>0.0</td>\n",
       "      <td>0.0</td>\n",
       "      <td>0.9542</td>\n",
       "      <td>20.3384</td>\n",
       "      <td>12.8127</td>\n",
       "      <td>0.8717</td>\n",
       "      <td>20.9</td>\n",
       "      <td>4.3</td>\n",
       "      <td>5.029838</td>\n",
       "      <td>0.084675</td>\n",
       "      <td>4.261367</td>\n",
       "      <td>0.683796</td>\n",
       "      <td>2956000.0</td>\n",
       "    </tr>\n",
       "    <tr>\n",
       "      <th>7</th>\n",
       "      <td>Australia</td>\n",
       "      <td>0.0</td>\n",
       "      <td>24.1099</td>\n",
       "      <td>4.6030</td>\n",
       "      <td>0.0</td>\n",
       "      <td>0.9908</td>\n",
       "      <td>0.7017</td>\n",
       "      <td>0.4515</td>\n",
       "      <td>0.4028</td>\n",
       "      <td>11.6002</td>\n",
       "      <td>0.0520</td>\n",
       "      <td>6.5196</td>\n",
       "      <td>0.2339</td>\n",
       "      <td>1.2929</td>\n",
       "      <td>0.0260</td>\n",
       "      <td>0.1007</td>\n",
       "      <td>0.0422</td>\n",
       "      <td>0.7926</td>\n",
       "      <td>0.0</td>\n",
       "      <td>0.0</td>\n",
       "      <td>1.6145</td>\n",
       "      <td>25.8901</td>\n",
       "      <td>20.3612</td>\n",
       "      <td>0.2144</td>\n",
       "      <td>30.4</td>\n",
       "      <td>&lt;2.5</td>\n",
       "      <td>0.108907</td>\n",
       "      <td>0.003526</td>\n",
       "      <td>0.099748</td>\n",
       "      <td>0.005634</td>\n",
       "      <td>25754000.0</td>\n",
       "    </tr>\n",
       "    <tr>\n",
       "      <th>8</th>\n",
       "      <td>Austria</td>\n",
       "      <td>0.0</td>\n",
       "      <td>27.8268</td>\n",
       "      <td>12.8517</td>\n",
       "      <td>0.0</td>\n",
       "      <td>1.2297</td>\n",
       "      <td>1.2147</td>\n",
       "      <td>0.4259</td>\n",
       "      <td>0.2249</td>\n",
       "      <td>8.1099</td>\n",
       "      <td>0.0000</td>\n",
       "      <td>5.1497</td>\n",
       "      <td>0.0750</td>\n",
       "      <td>1.1367</td>\n",
       "      <td>0.0120</td>\n",
       "      <td>0.1020</td>\n",
       "      <td>0.0450</td>\n",
       "      <td>0.4439</td>\n",
       "      <td>0.0</td>\n",
       "      <td>0.0</td>\n",
       "      <td>0.8398</td>\n",
       "      <td>22.1762</td>\n",
       "      <td>17.9323</td>\n",
       "      <td>0.2039</td>\n",
       "      <td>21.9</td>\n",
       "      <td>&lt;2.5</td>\n",
       "      <td>3.646522</td>\n",
       "      <td>0.050819</td>\n",
       "      <td>3.187952</td>\n",
       "      <td>0.407752</td>\n",
       "      <td>8914000.0</td>\n",
       "    </tr>\n",
       "    <tr>\n",
       "      <th>9</th>\n",
       "      <td>Azerbaijan</td>\n",
       "      <td>0.0</td>\n",
       "      <td>32.1198</td>\n",
       "      <td>7.7987</td>\n",
       "      <td>0.0</td>\n",
       "      <td>5.4481</td>\n",
       "      <td>2.0197</td>\n",
       "      <td>0.2122</td>\n",
       "      <td>0.5940</td>\n",
       "      <td>11.9993</td>\n",
       "      <td>0.0170</td>\n",
       "      <td>9.9202</td>\n",
       "      <td>0.1612</td>\n",
       "      <td>0.1867</td>\n",
       "      <td>0.0255</td>\n",
       "      <td>0.0170</td>\n",
       "      <td>0.1697</td>\n",
       "      <td>1.3663</td>\n",
       "      <td>0.0</td>\n",
       "      <td>0.0</td>\n",
       "      <td>2.2573</td>\n",
       "      <td>17.8802</td>\n",
       "      <td>7.1538</td>\n",
       "      <td>0.6534</td>\n",
       "      <td>19.9</td>\n",
       "      <td>&lt;2.5</td>\n",
       "      <td>1.770736</td>\n",
       "      <td>0.019450</td>\n",
       "      <td>1.136140</td>\n",
       "      <td>0.615146</td>\n",
       "      <td>10108000.0</td>\n",
       "    </tr>\n",
       "  </tbody>\n",
       "</table>\n",
       "</div>"
      ],
      "text/plain": [
       "               Country  Alcoholic Beverages  Animal Products  Animal fats  \\\n",
       "0          Afghanistan                  0.0          21.6397       6.2224   \n",
       "1              Albania                  0.0          32.0002       3.4172   \n",
       "2              Algeria                  0.0          14.4175       0.8972   \n",
       "3               Angola                  0.0          15.3041       1.3130   \n",
       "4  Antigua and Barbuda                  0.0          27.7033       4.6686   \n",
       "5            Argentina                  0.0          30.3572       3.3076   \n",
       "6              Armenia                  0.0          29.6642       6.2619   \n",
       "7            Australia                  0.0          24.1099       4.6030   \n",
       "8              Austria                  0.0          27.8268      12.8517   \n",
       "9           Azerbaijan                  0.0          32.1198       7.7987   \n",
       "\n",
       "   Aquatic Products, Other  Cereals - Excluding Beer    Eggs  Fish, Seafood  \\\n",
       "0                      0.0                    8.0353  0.6859         0.0327   \n",
       "1                      0.0                    2.6734  1.6448         0.1445   \n",
       "2                      0.0                    4.2035  1.2171         0.2008   \n",
       "3                      0.0                    6.5545  0.1539         1.4155   \n",
       "4                      0.0                    3.2153  0.3872         1.5263   \n",
       "5                      0.0                    1.3316  1.5706         0.1664   \n",
       "6                      0.0                    2.5068  1.6196         0.2218   \n",
       "7                      0.0                    0.9908  0.7017         0.4515   \n",
       "8                      0.0                    1.2297  1.2147         0.4259   \n",
       "9                      0.0                    5.4481  2.0197         0.2122   \n",
       "\n",
       "   Fruits - Excluding Wine     Meat  Miscellaneous  Milk - Excluding Butter  \\\n",
       "0                   0.4246   6.1244         0.0163                   8.2803   \n",
       "1                   0.6418   8.7428         0.0170                  17.7576   \n",
       "2                   0.5772   3.8961         0.0439                   8.0934   \n",
       "3                   0.3488  11.0268         0.0308                   1.2309   \n",
       "4                   1.2177  14.3202         0.0898                   6.6607   \n",
       "5                   0.2091  19.2693         0.0000                   5.8512   \n",
       "6                   0.5468  10.8165         0.0361                  10.4709   \n",
       "7                   0.4028  11.6002         0.0520                   6.5196   \n",
       "8                   0.2249   8.1099         0.0000                   5.1497   \n",
       "9                   0.5940  11.9993         0.0170                   9.9202   \n",
       "\n",
       "   Offals  Oilcrops  Pulses  Spices  Starchy Roots  Stimulants  Sugar Crops  \\\n",
       "0  0.3103    1.0452  0.1960  0.2776         0.0490      0.0980          0.0   \n",
       "1  0.2933    3.1622  0.1148  0.0000         0.0510      0.5270          0.0   \n",
       "2  0.1067    1.1983  0.2698  0.1568         0.1129      0.2886          0.0   \n",
       "3  0.1539    3.9902  0.3282  0.0103         0.7078      0.1128          0.0   \n",
       "4  0.1347    1.3579  0.0673  0.3591         0.0449      1.0549          0.0   \n",
       "5  0.1878    0.0640  0.0213  0.0213         0.1110      0.2475          0.0   \n",
       "6  0.2734    0.6602  0.0774  0.0103         0.0567      1.8002          0.0   \n",
       "7  0.2339    1.2929  0.0260  0.1007         0.0422      0.7926          0.0   \n",
       "8  0.0750    1.1367  0.0120  0.1020         0.0450      0.4439          0.0   \n",
       "9  0.1612    0.1867  0.0255  0.0170         0.1697      1.3663          0.0   \n",
       "\n",
       "   Sugar & Sweeteners  Treenuts  Vegetal Products  Vegetable Oils  Vegetables  \\\n",
       "0                 0.0    0.7513           28.3684         17.0831      0.3593   \n",
       "1                 0.0    0.9181           17.9998          9.2443      0.6503   \n",
       "2                 0.0    0.8595           35.5857         27.3606      0.5145   \n",
       "3                 0.0    0.0308           34.7010         22.4638      0.1231   \n",
       "4                 0.0    0.2020           22.2995         14.4436      0.2469   \n",
       "5                 0.0    0.1366           19.6449         17.3147      0.1878   \n",
       "6                 0.0    0.9542           20.3384         12.8127      0.8717   \n",
       "7                 0.0    1.6145           25.8901         20.3612      0.2144   \n",
       "8                 0.0    0.8398           22.1762         17.9323      0.2039   \n",
       "9                 0.0    2.2573           17.8802          7.1538      0.6534   \n",
       "\n",
       "   Obesity Undernourished  Confirmed    Deaths  Recovered    Active  \\\n",
       "0      4.5           29.8   0.125149  0.005058   0.098263  0.021827   \n",
       "1     22.3            6.2   1.733298  0.035800   0.874560  0.822939   \n",
       "2     26.6            3.9   0.208754  0.005882   0.137268  0.065604   \n",
       "3      6.8             25   0.050049  0.001144   0.027440  0.021465   \n",
       "4     19.1            NaN   0.151020  0.005102   0.140816  0.005102   \n",
       "5     28.5            4.6   3.312740  0.090444   2.953302  0.268993   \n",
       "6     20.9            4.3   5.029838  0.084675   4.261367  0.683796   \n",
       "7     30.4           <2.5   0.108907  0.003526   0.099748  0.005634   \n",
       "8     21.9           <2.5   3.646522  0.050819   3.187952  0.407752   \n",
       "9     19.9           <2.5   1.770736  0.019450   1.136140  0.615146   \n",
       "\n",
       "   Population  \n",
       "0  38928000.0  \n",
       "1   2838000.0  \n",
       "2  44357000.0  \n",
       "3  32522000.0  \n",
       "4     98000.0  \n",
       "5  45377000.0  \n",
       "6   2956000.0  \n",
       "7  25754000.0  \n",
       "8   8914000.0  \n",
       "9  10108000.0  "
      ]
     },
     "metadata": {},
     "output_type": "display_data"
    },
    {
     "name": "stdout",
     "output_type": "stream",
     "text": [
      "\n"
     ]
    },
    {
     "data": {
      "text/plain": [
       "'variable types'"
      ]
     },
     "metadata": {},
     "output_type": "display_data"
    },
    {
     "data": {
      "text/plain": [
       "Country                      object\n",
       "Alcoholic Beverages         float64\n",
       "Animal Products             float64\n",
       "Animal fats                 float64\n",
       "Aquatic Products, Other     float64\n",
       "Cereals - Excluding Beer    float64\n",
       "Eggs                        float64\n",
       "Fish, Seafood               float64\n",
       "Fruits - Excluding Wine     float64\n",
       "Meat                        float64\n",
       "Miscellaneous               float64\n",
       "Milk - Excluding Butter     float64\n",
       "Offals                      float64\n",
       "Oilcrops                    float64\n",
       "Pulses                      float64\n",
       "Spices                      float64\n",
       "Starchy Roots               float64\n",
       "Stimulants                  float64\n",
       "Sugar Crops                 float64\n",
       "Sugar & Sweeteners          float64\n",
       "Treenuts                    float64\n",
       "Vegetal Products            float64\n",
       "Vegetable Oils              float64\n",
       "Vegetables                  float64\n",
       "Obesity                     float64\n",
       "Undernourished               object\n",
       "Confirmed                   float64\n",
       "Deaths                      float64\n",
       "Recovered                   float64\n",
       "Active                      float64\n",
       "Population                  float64\n",
       "dtype: object"
      ]
     },
     "metadata": {},
     "output_type": "display_data"
    },
    {
     "name": "stdout",
     "output_type": "stream",
     "text": [
      "\n"
     ]
    }
   ],
   "source": [
    "# df shape \n",
    "print('df shape', df_fat.shape)\n",
    "print(\"\")\n",
    "\n",
    "# Column names\n",
    "display('column names :', df_fat.columns)\n",
    "print(\"\")\n",
    "\n",
    "# check the head \n",
    "display(df_fat.head(10))\n",
    "print(\"\")\n",
    "\n",
    "# variable types \n",
    "display('variable types', df_fat.dtypes)\n",
    "print(\"\")"
   ]
  },
  {
   "cell_type": "code",
   "execution_count": 44,
   "metadata": {},
   "outputs": [
    {
     "data": {
      "text/plain": [
       "'Unique values per variable'"
      ]
     },
     "metadata": {},
     "output_type": "display_data"
    },
    {
     "data": {
      "text/plain": [
       "Country                     170\n",
       "Alcoholic Beverages           3\n",
       "Animal Products             170\n",
       "Animal fats                 169\n",
       "Aquatic Products, Other       6\n",
       "Cereals - Excluding Beer    170\n",
       "Eggs                        169\n",
       "Fish, Seafood               170\n",
       "Fruits - Excluding Wine     168\n",
       "Meat                        170\n",
       "Miscellaneous               137\n",
       "Milk - Excluding Butter     169\n",
       "Offals                      167\n",
       "Oilcrops                    170\n",
       "Pulses                      160\n",
       "Spices                      155\n",
       "Starchy Roots               166\n",
       "Stimulants                  169\n",
       "Sugar Crops                  11\n",
       "Sugar & Sweeteners            9\n",
       "Treenuts                    162\n",
       "Vegetal Products            170\n",
       "Vegetable Oils              170\n",
       "Vegetables                  168\n",
       "Obesity                     120\n",
       "Undernourished               98\n",
       "Confirmed                   164\n",
       "Deaths                      154\n",
       "Recovered                   162\n",
       "Active                      161\n",
       "Population                  170\n",
       "dtype: int64"
      ]
     },
     "metadata": {},
     "output_type": "display_data"
    }
   ],
   "source": [
    "# unique values \n",
    "display('Unique values per variable', df_fat.nunique())"
   ]
  },
  {
   "cell_type": "code",
   "execution_count": 72,
   "metadata": {},
   "outputs": [],
   "source": [
    "# droping first columns because of unique values very low \n",
    "\n",
    "# Creating list of columns to drop \n",
    "drop_col_list = df_fat.nunique().index[df_fat.nunique().values < 15].tolist()\n",
    "\n",
    "# droping columns \n",
    "df_fat.drop(columns=drop_col_list, inplace=True, index=1)"
   ]
  },
  {
   "cell_type": "markdown",
   "metadata": {},
   "source": [
    "Let's create a function to **check missing data** and unveil **the percentage of data missing** for each dataframe"
   ]
  },
  {
   "cell_type": "code",
   "execution_count": 74,
   "metadata": {},
   "outputs": [
    {
     "name": "stdout",
     "output_type": "stream",
     "text": [
      "percentage of missing values per variable\n"
     ]
    },
    {
     "data": {
      "text/plain": [
       "Country                     0.000000\n",
       "Vegetables                  0.000000\n",
       "Vegetable Oils              0.000000\n",
       "Vegetal Products            0.000000\n",
       "Treenuts                    0.000000\n",
       "Stimulants                  0.000000\n",
       "Starchy Roots               0.000000\n",
       "Pulses                      0.000000\n",
       "Oilcrops                    0.000000\n",
       "Offals                      0.000000\n",
       "Spices                      0.000000\n",
       "Miscellaneous               0.000000\n",
       "Meat                        0.000000\n",
       "Fruits - Excluding Wine     0.000000\n",
       "Fish, Seafood               0.000000\n",
       "Eggs                        0.000000\n",
       "Cereals - Excluding Beer    0.000000\n",
       "Animal fats                 0.000000\n",
       "Animal Products             0.000000\n",
       "Milk - Excluding Butter     0.000000\n",
       "Population                  0.000000\n",
       "Obesity                     0.017751\n",
       "Confirmed                   0.035503\n",
       "Deaths                      0.035503\n",
       "Recovered                   0.035503\n",
       "Undernourished              0.041420\n",
       "Active                      0.047337\n",
       "dtype: float64"
      ]
     },
     "execution_count": 74,
     "metadata": {},
     "output_type": "execute_result"
    }
   ],
   "source": [
    "# percentage of missing values per variable\n",
    "print('percentage of missing values per variable')\n",
    "(df_fat.isna().sum()/len(df_fat)).sort_values()"
   ]
  },
  {
   "cell_type": "markdown",
   "metadata": {},
   "source": [
    "Delete the countries for which values are missing."
   ]
  },
  {
   "cell_type": "code",
   "execution_count": 75,
   "metadata": {},
   "outputs": [],
   "source": [
    "df_fat2 = df_fat.copy()"
   ]
  },
  {
   "cell_type": "code",
   "execution_count": 81,
   "metadata": {},
   "outputs": [
    {
     "data": {
      "text/plain": [
       "(169, 27)"
      ]
     },
     "execution_count": 81,
     "metadata": {},
     "output_type": "execute_result"
    }
   ],
   "source": [
    "len(df_fat)\n",
    "df_fat.shape"
   ]
  },
  {
   "cell_type": "code",
   "execution_count": 78,
   "metadata": {},
   "outputs": [],
   "source": [
    "df_fat2.dropna(inplace=True)"
   ]
  },
  {
   "cell_type": "code",
   "execution_count": 82,
   "metadata": {},
   "outputs": [
    {
     "data": {
      "text/plain": [
       "(153, 27)"
      ]
     },
     "execution_count": 82,
     "metadata": {},
     "output_type": "execute_result"
    }
   ],
   "source": [
    "len(df_fat2)\n",
    "df_fat2.shape"
   ]
  },
  {
   "cell_type": "markdown",
   "metadata": {},
   "source": [
    "Look at the different data types for each variable."
   ]
  },
  {
   "cell_type": "code",
   "execution_count": null,
   "metadata": {},
   "outputs": [],
   "source": []
  },
  {
   "cell_type": "markdown",
   "metadata": {},
   "source": [
    "Explore the variables that are not of float type and see of you can convert them in to float type."
   ]
  },
  {
   "cell_type": "code",
   "execution_count": null,
   "metadata": {},
   "outputs": [],
   "source": []
  },
  {
   "cell_type": "markdown",
   "metadata": {},
   "source": [
    "### CREATING X AND Y "
   ]
  },
  {
   "cell_type": "code",
   "execution_count": null,
   "metadata": {},
   "outputs": [],
   "source": [
    "# Pour Y faut droper aussi les varaibles associées à Y pour pas biaser \n",
    "y = df_trees['ANNEEDEPLANTATION']\n",
    "X = df_trees.drop('ANNEEDEPLANTATION', axis=1)"
   ]
  },
  {
   "cell_type": "markdown",
   "metadata": {},
   "source": [
    "# Clustering"
   ]
  },
  {
   "cell_type": "markdown",
   "metadata": {},
   "source": [
    "## Data preparation"
   ]
  },
  {
   "cell_type": "markdown",
   "metadata": {},
   "source": [
    "Scale the dataset"
   ]
  },
  {
   "cell_type": "code",
   "execution_count": null,
   "metadata": {},
   "outputs": [],
   "source": []
  },
  {
   "cell_type": "markdown",
   "metadata": {},
   "source": [
    "## Plot some data"
   ]
  },
  {
   "cell_type": "markdown",
   "metadata": {},
   "source": [
    "Now, we want to visualize some variables for each state. To do so, we use plotly express to have the possibility to hover on a scatter plot and see the statistics per country clearer as explained here."
   ]
  },
  {
   "cell_type": "markdown",
   "metadata": {},
   "source": [
    "https://plotly.com/python/hover-text-and-formatting/#:~:text=Basic%20Charts%20tutorials.-,Hover%20Labels,having%20a%20hover%20label%20appear."
   ]
  },
  {
   "cell_type": "markdown",
   "metadata": {},
   "source": [
    "Plot the \"Obesity\" vs \"Deaths\" statistics"
   ]
  },
  {
   "cell_type": "code",
   "execution_count": null,
   "metadata": {},
   "outputs": [],
   "source": []
  },
  {
   "cell_type": "markdown",
   "metadata": {},
   "source": [
    "Plot the \"Animal fats\" vs \"Deaths\" statistics"
   ]
  },
  {
   "cell_type": "code",
   "execution_count": null,
   "metadata": {},
   "outputs": [],
   "source": []
  },
  {
   "cell_type": "markdown",
   "metadata": {},
   "source": [
    "## K-means and Elbow method"
   ]
  },
  {
   "cell_type": "markdown",
   "metadata": {},
   "source": [
    "We start with the K-Means model:\n",
    "- use the scikit-learn method\n",
    "- use the method you implemented.\n",
    "\n",
    "Use a graphical tool, the elbow method, to estimate the optimal number of clusters k for a given task.\n",
    "- Determine the optimal number of clusters for the previous 2 plots."
   ]
  },
  {
   "cell_type": "code",
   "execution_count": 1,
   "metadata": {},
   "outputs": [],
   "source": [
    "from sklearn.cluster import KMeans\n"
   ]
  },
  {
   "cell_type": "markdown",
   "metadata": {},
   "source": [
    "Plot the obtained clusters"
   ]
  },
  {
   "cell_type": "code",
   "execution_count": null,
   "metadata": {},
   "outputs": [],
   "source": []
  },
  {
   "cell_type": "markdown",
   "metadata": {},
   "source": [
    "## Other clustering methods"
   ]
  },
  {
   "cell_type": "markdown",
   "metadata": {},
   "source": [
    "We are going to explore other clustering methods, such as Mean-Shift.\n",
    "\n",
    "You can read more about it in the next ressource:\n",
    "https://scikit-learn.org/stable/modules/clustering.html\n"
   ]
  },
  {
   "cell_type": "markdown",
   "metadata": {},
   "source": [
    "Apply the method to our datasets made of 2 variables (\"Obesity\" vs \"Deaths\")"
   ]
  },
  {
   "cell_type": "code",
   "execution_count": 2,
   "metadata": {},
   "outputs": [],
   "source": [
    "# Mean-Shift\n",
    "from sklearn.cluster import MeanShift, estimate_bandwidth\n"
   ]
  },
  {
   "cell_type": "markdown",
   "metadata": {},
   "source": [
    "Plot the obtained clusters"
   ]
  },
  {
   "cell_type": "code",
   "execution_count": null,
   "metadata": {},
   "outputs": [],
   "source": []
  },
  {
   "cell_type": "markdown",
   "metadata": {},
   "source": [
    "Check out other algorithms such as DBSAN or OPTICS, why are these algorithms very interesting and in what cases? "
   ]
  },
  {
   "cell_type": "code",
   "execution_count": 36,
   "metadata": {},
   "outputs": [],
   "source": [
    "from sklearn.cluster import DBSCAN\n"
   ]
  },
  {
   "cell_type": "code",
   "execution_count": null,
   "metadata": {},
   "outputs": [],
   "source": []
  },
  {
   "cell_type": "markdown",
   "metadata": {},
   "source": [
    "# Classification and prediction"
   ]
  },
  {
   "cell_type": "markdown",
   "metadata": {},
   "source": [
    "Given this dataset and the emphasis we have already laid on deaths through clustering, it would be interesting to study this dataset for a classification purpose and see how accurately we can predict the mortality rate in fonction of the given features."
   ]
  },
  {
   "cell_type": "markdown",
   "metadata": {},
   "source": [
    "## Creating train and test sets "
   ]
  },
  {
   "cell_type": "markdown",
   "metadata": {},
   "source": [
    "Let's separate the data into a training and testing sets using random selection."
   ]
  },
  {
   "cell_type": "code",
   "execution_count": null,
   "metadata": {},
   "outputs": [],
   "source": []
  },
  {
   "cell_type": "markdown",
   "metadata": {},
   "source": [
    "Now drop the labels from the training set and create a new variable for the labels."
   ]
  },
  {
   "cell_type": "code",
   "execution_count": 42,
   "metadata": {},
   "outputs": [],
   "source": []
  },
  {
   "cell_type": "markdown",
   "metadata": {},
   "source": [
    "Scale the datasets."
   ]
  },
  {
   "cell_type": "code",
   "execution_count": 44,
   "metadata": {},
   "outputs": [],
   "source": []
  },
  {
   "cell_type": "markdown",
   "metadata": {},
   "source": [
    "## Random Forest"
   ]
  },
  {
   "cell_type": "markdown",
   "metadata": {},
   "source": [
    "Let's try a random forest model on the prepared fat_quantity training set."
   ]
  },
  {
   "cell_type": "code",
   "execution_count": 47,
   "metadata": {},
   "outputs": [
    {
     "data": {
      "text/plain": [
       "RandomForestRegressor(random_state=42)"
      ]
     },
     "execution_count": 47,
     "metadata": {},
     "output_type": "execute_result"
    }
   ],
   "source": []
  },
  {
   "cell_type": "markdown",
   "metadata": {},
   "source": [
    "Now we predict."
   ]
  },
  {
   "cell_type": "code",
   "execution_count": null,
   "metadata": {},
   "outputs": [],
   "source": []
  },
  {
   "cell_type": "markdown",
   "metadata": {},
   "source": [
    "Let's perform a 10 fold cross validation.\n",
    "And display the resulting scores:"
   ]
  },
  {
   "cell_type": "code",
   "execution_count": null,
   "metadata": {},
   "outputs": [],
   "source": []
  },
  {
   "cell_type": "markdown",
   "metadata": {},
   "source": [
    "## Learning Curves analysis "
   ]
  },
  {
   "cell_type": "markdown",
   "metadata": {},
   "source": [
    "Use the function seen in **Module 1 to plot learning curves with cross validation.** "
   ]
  },
  {
   "cell_type": "code",
   "execution_count": 31,
   "metadata": {},
   "outputs": [],
   "source": [
    "from sklearn.model_selection import learning_curve\n",
    "\n",
    "def plot_learning_curve(estimator, title, X, y, axes=None, ylim=None, cv=None,\n",
    "                        n_jobs=None, train_sizes=np.linspace(.1, 1.0, 5)):\n",
    "...."
   ]
  },
  {
   "cell_type": "markdown",
   "metadata": {},
   "source": [
    "Try to interpret the obtained learning curve."
   ]
  },
  {
   "cell_type": "code",
   "execution_count": null,
   "metadata": {},
   "outputs": [],
   "source": []
  },
  {
   "cell_type": "markdown",
   "metadata": {},
   "source": [
    "Perform a grid search to try to obtain the best hyperparameters. What is the best score that you obtained?"
   ]
  },
  {
   "cell_type": "code",
   "execution_count": 77,
   "metadata": {},
   "outputs": [],
   "source": []
  },
  {
   "cell_type": "markdown",
   "metadata": {},
   "source": [
    "## SVM"
   ]
  },
  {
   "cell_type": "markdown",
   "metadata": {},
   "source": [
    "Use the SVM regressor to estimate the death rate. See if you can get a better model than with the Random forest regressor."
   ]
  },
  {
   "cell_type": "code",
   "execution_count": 28,
   "metadata": {},
   "outputs": [
    {
     "data": {
      "text/plain": [
       "SVR(epsilon=0.2)"
      ]
     },
     "execution_count": 28,
     "metadata": {},
     "output_type": "execute_result"
    }
   ],
   "source": [
    "from sklearn.svm import SVR"
   ]
  },
  {
   "cell_type": "markdown",
   "metadata": {},
   "source": [
    "## Linear regression"
   ]
  },
  {
   "cell_type": "code",
   "execution_count": 3,
   "metadata": {},
   "outputs": [],
   "source": [
    "from sklearn.linear_model import LinearRegression"
   ]
  },
  {
   "cell_type": "markdown",
   "metadata": {},
   "source": [
    "# Dimensionality reduction"
   ]
  },
  {
   "cell_type": "markdown",
   "metadata": {},
   "source": [
    "Let's take a look at the whole dataset and see if there are any clusters.\n",
    "\n",
    "In order to do these perform and plot a PCA of 2 components.\n",
    "\n",
    "Dimensionality reduction is a way to reduce the number of features in your dataset without having to lose much information and keep the model’s performance. Check out the Random Forest based method and PCA for dimensionality reduction in the following ressource:\n",
    "\n",
    "https://www.analyticsvidhya.com/blog/2018/08/dimensionality-reduction-techniques-python/"
   ]
  },
  {
   "cell_type": "markdown",
   "metadata": {},
   "source": [
    "## Random Forest feature selection"
   ]
  },
  {
   "cell_type": "code",
   "execution_count": 50,
   "metadata": {},
   "outputs": [],
   "source": []
  },
  {
   "cell_type": "markdown",
   "metadata": {},
   "source": [
    "Plot the feature importance graph."
   ]
  },
  {
   "cell_type": "code",
   "execution_count": null,
   "metadata": {},
   "outputs": [],
   "source": []
  },
  {
   "cell_type": "markdown",
   "metadata": {},
   "source": [
    "Comment the graph."
   ]
  },
  {
   "cell_type": "markdown",
   "metadata": {},
   "source": [
    "## PCA dimensionality reduction"
   ]
  },
  {
   "cell_type": "markdown",
   "metadata": {},
   "source": [
    "PCA is a technique which helps us in extracting a new set of variables from an existing large set of variables. Apply clustering methods on this new set of variables. Are the clusters obtained different than the clusters obtained on the \"Obesity\" vs \"Deaths\"?\n",
    "\n",
    "Apply the Elbow method to determne the right number of clusters.\n",
    "\n",
    "Use diverse methods to cluster the countries."
   ]
  },
  {
   "cell_type": "code",
   "execution_count": 52,
   "metadata": {},
   "outputs": [],
   "source": []
  }
 ],
 "metadata": {
  "kernelspec": {
   "display_name": "Python 3 (ipykernel)",
   "language": "python",
   "name": "python3"
  },
  "language_info": {
   "codemirror_mode": {
    "name": "ipython",
    "version": 3
   },
   "file_extension": ".py",
   "mimetype": "text/x-python",
   "name": "python",
   "nbconvert_exporter": "python",
   "pygments_lexer": "ipython3",
   "version": "3.9.7"
  },
  "toc": {
   "base_numbering": 1,
   "nav_menu": {},
   "number_sections": true,
   "sideBar": true,
   "skip_h1_title": false,
   "title_cell": "Table of Contents",
   "title_sidebar": "Contents",
   "toc_cell": false,
   "toc_position": {},
   "toc_section_display": true,
   "toc_window_display": true
  },
  "varInspector": {
   "cols": {
    "lenName": 16,
    "lenType": 16,
    "lenVar": 40
   },
   "kernels_config": {
    "python": {
     "delete_cmd_postfix": "",
     "delete_cmd_prefix": "del ",
     "library": "var_list.py",
     "varRefreshCmd": "print(var_dic_list())"
    },
    "r": {
     "delete_cmd_postfix": ") ",
     "delete_cmd_prefix": "rm(",
     "library": "var_list.r",
     "varRefreshCmd": "cat(var_dic_list()) "
    }
   },
   "types_to_exclude": [
    "module",
    "function",
    "builtin_function_or_method",
    "instance",
    "_Feature"
   ],
   "window_display": false
  }
 },
 "nbformat": 4,
 "nbformat_minor": 4
}
