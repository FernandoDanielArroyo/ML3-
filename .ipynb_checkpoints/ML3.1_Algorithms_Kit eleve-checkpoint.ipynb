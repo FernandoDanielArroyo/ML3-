{
 "cells": [
  {
   "cell_type": "markdown",
   "metadata": {},
   "source": [
    "## Packages"
   ]
  },
  {
   "cell_type": "code",
   "execution_count": 1,
   "metadata": {},
   "outputs": [],
   "source": [
    "import numpy as np\n",
    "import pandas as pd\n",
    "import matplotlib.pyplot as plt\n",
    "%matplotlib inline"
   ]
  },
  {
   "cell_type": "code",
   "execution_count": 116,
   "metadata": {},
   "outputs": [],
   "source": [
    "# Import the decision tree exemple and make it run \n",
    "\n",
    "from sklearn.tree import DecisionTreeClassifier, export_graphviz, plot_tree\n",
    "# importing iris dataset \n",
    "from sklearn.datasets import load_iris\n",
    "# Importing split test \n",
    "from sklearn.model_selection import train_test_split\n",
    "# Importing graphviz for decisiton tree \n",
    "import graphviz\n",
    "# importing metrics \n",
    "from sklearn import metrics\n",
    "# importing randoforestclassifier \n",
    "from sklearn.ensemble import RandomForestClassifier\n",
    "# importing SVC \n",
    "from sklearn.svm import LinearSVC\n",
    "# importing linearregression model \n",
    "from sklearn.linear_model import LinearRegression\n",
    "# importing mean squared error \n",
    "from sklearn.metrics import mean_squared_error\n",
    "# importing standardscaler \n",
    "from sklearn.preprocessing import StandardScaler\n",
    "# Importing package to make pipeline \n",
    "from sklearn.pipeline import make_pipeline\n",
    "# importing learning curve package \n",
    "from sklearn.model_selection import learning_curve"
   ]
  },
  {
   "cell_type": "markdown",
   "metadata": {},
   "source": [
    "## Resources\n",
    "General: \n",
    "1. Hands on Machine Learning with scikit-learn and tensorflow, chapter 5, 6, 7\n",
    "\n",
    "2. Machine Learnia : https://www.youtube.com/watch?v=w_bLGK4Pteo\n",
    "\n",
    "Extra ressources fo algorithms:\n",
    "- Arbres de décision: \n",
    "1. https://scikit-learn.org/stable/modules/tree.html\n",
    "2. https://www.lovelyanalytics.com/2016/08/16/decision-tree-comment-ca-marche/\n",
    "- Random forest:\n",
    "1. https://scikit-learn.org/stable/modules/generated/sklearn.ensemble.RandomForestClassifier.html\n",
    "2. https://towardsdatascience.com/random-forest-in-python-24d0893d51c0\n",
    "- SVM: \n",
    "1. https://scikit-learn.org/stable/modules/svm.html\n",
    "\n",
    "\n",
    "Courbes d'apprentissage: \n",
    "1. https://scikit-learn.org/stable/auto_examples/model_selection/plot_learning_curve.html#sphx-glr-auto-examples-model-selection-plot-learning-curve-py\n",
    "2. https://towardsdatascience.com/why-you-should-be-plotting-learning-curves-in-your-next-machine-learning-project-221bae60c53\n",
    "\n",
    "Courbes de validation: \n",
    "1. https://scikit-learn.org/stable/modules/learning_curve.html"
   ]
  },
  {
   "cell_type": "markdown",
   "metadata": {},
   "source": [
    "- Take some time to read book sections for decision tree, random forest and SVM algorithms.\n",
    "- Import these algorithms from scikit-learn and find the hyperparameter options that are available when they are instantiated.\n"
   ]
  },
  {
   "cell_type": "markdown",
   "metadata": {},
   "source": [
    "## Decision trees"
   ]
  },
  {
   "cell_type": "markdown",
   "metadata": {},
   "source": [
    "Explain here how they work in your own words:"
   ]
  },
  {
   "cell_type": "markdown",
   "metadata": {},
   "source": [
    " "
   ]
  },
  {
   "cell_type": "code",
   "execution_count": 106,
   "metadata": {},
   "outputs": [],
   "source": [
    "# Load dataset\n",
    "iris = load_iris()\n",
    "X = iris.data[:, 2:] # petal length and width\n",
    "y = iris.target"
   ]
  },
  {
   "cell_type": "code",
   "execution_count": 107,
   "metadata": {},
   "outputs": [
    {
     "data": {
      "text/plain": [
       "<matplotlib.collections.PathCollection at 0x7fcc61708b50>"
      ]
     },
     "execution_count": 107,
     "metadata": {},
     "output_type": "execute_result"
    },
    {
     "data": {
      "image/png": "[encoded data removed]",
      "text/plain": [
       "<Figure size 864x504 with 1 Axes>"
      ]
     },
     "metadata": {
      "needs_background": "light"
     },
     "output_type": "display_data"
    }
   ],
   "source": [
    "# Plotting data \n",
    "plt.figure(figsize=(12,7))\n",
    "plt.scatter(X[:,0], X[:,1], c= y, alpha= 0.9)"
   ]
  },
  {
   "cell_type": "code",
   "execution_count": 5,
   "metadata": {},
   "outputs": [],
   "source": [
    "# Splitting data \n",
    "X_train, X_test, y_train, y_test = train_test_split(X, y, test_size= 0.2, random_state=42)"
   ]
  },
  {
   "cell_type": "code",
   "execution_count": 6,
   "metadata": {},
   "outputs": [
    {
     "data": {
      "text/plain": [
       "DecisionTreeClassifier(max_depth=2)"
      ]
     },
     "execution_count": 6,
     "metadata": {},
     "output_type": "execute_result"
    }
   ],
   "source": [
    "# Train a decision tree with max_depth=2\n",
    "tree_model = DecisionTreeClassifier(max_depth=2)\n",
    "tree_model.fit(X_train, y_train)"
   ]
  },
  {
   "cell_type": "markdown",
   "metadata": {},
   "source": [
    "### Visualization: export_graphviz"
   ]
  },
  {
   "cell_type": "code",
   "execution_count": 7,
   "metadata": {},
   "outputs": [
    {
     "data": {
      "image/svg+xml": [
       "<?xml version=\"1.0\" encoding=\"UTF-8\" standalone=\"no\"?>\n",
       "<!DOCTYPE svg PUBLIC \"-//W3C//DTD SVG 1.1//EN\"\n",
       " \"http://www.w3.org/Graphics/SVG/1.1/DTD/svg11.dtd\">\n",
       "<!-- Generated by graphviz version 2.43.0 (0)\n",
       " -->\n",
       "<!-- Title: Tree Pages: 1 -->\n",
       "<svg width=\"521pt\" height=\"314pt\"\n",
       " viewBox=\"0.00 0.00 521.00 314.00\" xmlns=\"http://www.w3.org/2000/svg\" xmlns:xlink=\"http://www.w3.org/1999/xlink\">\n",
       "<g id=\"graph0\" class=\"graph\" transform=\"scale(1 1) rotate(0) translate(4 310)\">\n",
       "<title>Tree</title>\n",
       "<polygon fill=\"white\" stroke=\"transparent\" points=\"-4,4 -4,-310 517,-310 517,4 -4,4\"/>\n",
       "<!-- 0 -->\n",
       "<g id=\"node1\" class=\"node\">\n",
       "<title>0</title>\n",
       "<polygon fill=\"#fdfffd\" stroke=\"black\" points=\"300,-306 109,-306 109,-223 300,-223 300,-306\"/>\n",
       "<text text-anchor=\"middle\" x=\"204.5\" y=\"-290.8\" font-family=\"Times,serif\" font-size=\"14.00\">X[1] &lt;= 0.8</text>\n",
       "<text text-anchor=\"middle\" x=\"204.5\" y=\"-275.8\" font-family=\"Times,serif\" font-size=\"14.00\">gini = 0.667</text>\n",
       "<text text-anchor=\"middle\" x=\"204.5\" y=\"-260.8\" font-family=\"Times,serif\" font-size=\"14.00\">samples = 120</text>\n",
       "<text text-anchor=\"middle\" x=\"204.5\" y=\"-245.8\" font-family=\"Times,serif\" font-size=\"14.00\">value = [40, 41, 39]</text>\n",
       "<text text-anchor=\"middle\" x=\"204.5\" y=\"-230.8\" font-family=\"Times,serif\" font-size=\"14.00\">class = sepal width (cm)</text>\n",
       "</g>\n",
       "<!-- 1 -->\n",
       "<g id=\"node2\" class=\"node\">\n",
       "<title>1</title>\n",
       "<polygon fill=\"#e58139\" stroke=\"black\" points=\"197,-179.5 0,-179.5 0,-111.5 197,-111.5 197,-179.5\"/>\n",
       "<text text-anchor=\"middle\" x=\"98.5\" y=\"-164.3\" font-family=\"Times,serif\" font-size=\"14.00\">gini = 0.0</text>\n",
       "<text text-anchor=\"middle\" x=\"98.5\" y=\"-149.3\" font-family=\"Times,serif\" font-size=\"14.00\">samples = 40</text>\n",
       "<text text-anchor=\"middle\" x=\"98.5\" y=\"-134.3\" font-family=\"Times,serif\" font-size=\"14.00\">value = [40, 0, 0]</text>\n",
       "<text text-anchor=\"middle\" x=\"98.5\" y=\"-119.3\" font-family=\"Times,serif\" font-size=\"14.00\">class = sepal length (cm)</text>\n",
       "</g>\n",
       "<!-- 0&#45;&gt;1 -->\n",
       "<g id=\"edge1\" class=\"edge\">\n",
       "<title>0&#45;&gt;1</title>\n",
       "<path fill=\"none\" stroke=\"black\" d=\"M167.72,-222.91C157.23,-211.32 145.79,-198.7 135.29,-187.11\"/>\n",
       "<polygon fill=\"black\" stroke=\"black\" points=\"137.86,-184.73 128.55,-179.67 132.67,-189.43 137.86,-184.73\"/>\n",
       "<text text-anchor=\"middle\" x=\"127.32\" y=\"-200.94\" font-family=\"Times,serif\" font-size=\"14.00\">True</text>\n",
       "</g>\n",
       "<!-- 2 -->\n",
       "<g id=\"node3\" class=\"node\">\n",
       "<title>2</title>\n",
       "<polygon fill=\"#f5fef9\" stroke=\"black\" points=\"406,-187 215,-187 215,-104 406,-104 406,-187\"/>\n",
       "<text text-anchor=\"middle\" x=\"310.5\" y=\"-171.8\" font-family=\"Times,serif\" font-size=\"14.00\">X[0] &lt;= 4.75</text>\n",
       "<text text-anchor=\"middle\" x=\"310.5\" y=\"-156.8\" font-family=\"Times,serif\" font-size=\"14.00\">gini = 0.5</text>\n",
       "<text text-anchor=\"middle\" x=\"310.5\" y=\"-141.8\" font-family=\"Times,serif\" font-size=\"14.00\">samples = 80</text>\n",
       "<text text-anchor=\"middle\" x=\"310.5\" y=\"-126.8\" font-family=\"Times,serif\" font-size=\"14.00\">value = [0, 41, 39]</text>\n",
       "<text text-anchor=\"middle\" x=\"310.5\" y=\"-111.8\" font-family=\"Times,serif\" font-size=\"14.00\">class = sepal width (cm)</text>\n",
       "</g>\n",
       "<!-- 0&#45;&gt;2 -->\n",
       "<g id=\"edge2\" class=\"edge\">\n",
       "<title>0&#45;&gt;2</title>\n",
       "<path fill=\"none\" stroke=\"black\" d=\"M241.28,-222.91C249.58,-213.74 258.47,-203.93 267.02,-194.49\"/>\n",
       "<polygon fill=\"black\" stroke=\"black\" points=\"269.67,-196.78 273.79,-187.02 264.48,-192.08 269.67,-196.78\"/>\n",
       "<text text-anchor=\"middle\" x=\"275.02\" y=\"-208.29\" font-family=\"Times,serif\" font-size=\"14.00\">False</text>\n",
       "</g>\n",
       "<!-- 3 -->\n",
       "<g id=\"node4\" class=\"node\">\n",
       "<title>3</title>\n",
       "<polygon fill=\"#3ee684\" stroke=\"black\" points=\"300,-68 109,-68 109,0 300,0 300,-68\"/>\n",
       "<text text-anchor=\"middle\" x=\"204.5\" y=\"-52.8\" font-family=\"Times,serif\" font-size=\"14.00\">gini = 0.053</text>\n",
       "<text text-anchor=\"middle\" x=\"204.5\" y=\"-37.8\" font-family=\"Times,serif\" font-size=\"14.00\">samples = 37</text>\n",
       "<text text-anchor=\"middle\" x=\"204.5\" y=\"-22.8\" font-family=\"Times,serif\" font-size=\"14.00\">value = [0, 36, 1]</text>\n",
       "<text text-anchor=\"middle\" x=\"204.5\" y=\"-7.8\" font-family=\"Times,serif\" font-size=\"14.00\">class = sepal width (cm)</text>\n",
       "</g>\n",
       "<!-- 2&#45;&gt;3 -->\n",
       "<g id=\"edge3\" class=\"edge\">\n",
       "<title>2&#45;&gt;3</title>\n",
       "<path fill=\"none\" stroke=\"black\" d=\"M271.03,-103.73C262.11,-94.51 252.65,-84.74 243.74,-75.53\"/>\n",
       "<polygon fill=\"black\" stroke=\"black\" points=\"246.21,-73.05 236.74,-68.3 241.18,-77.92 246.21,-73.05\"/>\n",
       "</g>\n",
       "<!-- 4 -->\n",
       "<g id=\"node5\" class=\"node\">\n",
       "<title>4</title>\n",
       "<polygon fill=\"#9253e8\" stroke=\"black\" points=\"513,-68 318,-68 318,0 513,0 513,-68\"/>\n",
       "<text text-anchor=\"middle\" x=\"415.5\" y=\"-52.8\" font-family=\"Times,serif\" font-size=\"14.00\">gini = 0.206</text>\n",
       "<text text-anchor=\"middle\" x=\"415.5\" y=\"-37.8\" font-family=\"Times,serif\" font-size=\"14.00\">samples = 43</text>\n",
       "<text text-anchor=\"middle\" x=\"415.5\" y=\"-22.8\" font-family=\"Times,serif\" font-size=\"14.00\">value = [0, 5, 38]</text>\n",
       "<text text-anchor=\"middle\" x=\"415.5\" y=\"-7.8\" font-family=\"Times,serif\" font-size=\"14.00\">class = petal length (cm)</text>\n",
       "</g>\n",
       "<!-- 2&#45;&gt;4 -->\n",
       "<g id=\"edge4\" class=\"edge\">\n",
       "<title>2&#45;&gt;4</title>\n",
       "<path fill=\"none\" stroke=\"black\" d=\"M349.6,-103.73C358.43,-94.51 367.81,-84.74 376.63,-75.53\"/>\n",
       "<polygon fill=\"black\" stroke=\"black\" points=\"379.17,-77.94 383.57,-68.3 374.12,-73.1 379.17,-77.94\"/>\n",
       "</g>\n",
       "</g>\n",
       "</svg>\n"
      ],
      "text/plain": [
       "<graphviz.sources.Source at 0x7fcc64d48040>"
      ]
     },
     "execution_count": 7,
     "metadata": {},
     "output_type": "execute_result"
    }
   ],
   "source": [
    "# Visualize decision tree using graphviz \n",
    "dot_data = export_graphviz(tree_model, filled=True, class_names=iris.feature_names)\n",
    "graph = graphviz.Source(dot_data)\n",
    "graph"
   ]
  },
  {
   "cell_type": "code",
   "execution_count": 8,
   "metadata": {},
   "outputs": [
    {
     "data": {
      "text/plain": [
       "'iris_tree.png'"
      ]
     },
     "execution_count": 8,
     "metadata": {},
     "output_type": "execute_result"
    }
   ],
   "source": [
    "# exporting iris_tree \n",
    "graph.format = \"png\"\n",
    "graph.render(\"iris_tree\")"
   ]
  },
  {
   "cell_type": "code",
   "execution_count": 9,
   "metadata": {},
   "outputs": [],
   "source": [
    "# open image with PIL\n",
    "from PIL import Image\n",
    "image = Image.open(\"iris_tree.png\")\n",
    "image.show()"
   ]
  },
  {
   "cell_type": "code",
   "execution_count": 10,
   "metadata": {},
   "outputs": [
    {
     "data": {
      "image/png": "[encoded data removed]",
      "text/plain": [
       "<Figure size 432x288 with 1 Axes>"
      ]
     },
     "metadata": {
      "needs_background": "light"
     },
     "output_type": "display_data"
    }
   ],
   "source": [
    "# open image with matplotlib\n",
    "import matplotlib.pyplot as plt\n",
    "import matplotlib.image as mpimg\n",
    "\n",
    "img=mpimg.imread('iris_tree.png')\n",
    "imgplot = plt.imshow(img)"
   ]
  },
  {
   "cell_type": "markdown",
   "metadata": {},
   "source": [
    "### Visualization: plot_tree"
   ]
  },
  {
   "cell_type": "code",
   "execution_count": 11,
   "metadata": {},
   "outputs": [
    {
     "data": {
      "image/png": "[encoded data removed]",
      "text/plain": [
       "<Figure size 432x288 with 1 Axes>"
      ]
     },
     "metadata": {
      "needs_background": "light"
     },
     "output_type": "display_data"
    }
   ],
   "source": [
    "# visualize using the 'plot_tree' method (from the sklearn.tree module)\n",
    "plot = plot_tree(tree_model, feature_names = iris.feature_names[:2], class_names = iris.target_names)"
   ]
  },
  {
   "cell_type": "markdown",
   "metadata": {},
   "source": [
    "Compute the predictions of a decision tree classifier on a test set and calculate all the classification metrics you know:\n"
   ]
  },
  {
   "cell_type": "code",
   "execution_count": 12,
   "metadata": {},
   "outputs": [],
   "source": [
    "# split in train and test set\n"
   ]
  },
  {
   "cell_type": "code",
   "execution_count": 13,
   "metadata": {},
   "outputs": [],
   "source": [
    "# fit classifier with max_depth=2\n"
   ]
  },
  {
   "cell_type": "code",
   "execution_count": 110,
   "metadata": {},
   "outputs": [
    {
     "data": {
      "text/plain": [
       "array([1, 0, 2, 1, 2, 0, 1, 2, 1, 1, 2, 0, 0, 0, 0, 1, 2, 1, 1, 2, 0, 2,\n",
       "       0, 2, 2, 2, 2, 2, 0, 0, 0, 0, 1, 0, 0, 2, 1, 0, 0, 0, 2, 1, 1, 0,\n",
       "       0])"
      ]
     },
     "execution_count": 110,
     "metadata": {},
     "output_type": "execute_result"
    }
   ],
   "source": [
    "# make predictions on the test set\n",
    "y_pred_test_tree = tree_model.predict(X_test)\n",
    "y_pred_test_tree"
   ]
  },
  {
   "cell_type": "code",
   "execution_count": 111,
   "metadata": {
    "tags": []
   },
   "outputs": [
    {
     "name": "stdout",
     "output_type": "stream",
     "text": [
      "accuracy score = 0.9777777777777777\n",
      "confusion matrix\n"
     ]
    },
    {
     "data": {
      "text/plain": [
       "array([[19,  0,  0],\n",
       "       [ 0, 12,  1],\n",
       "       [ 0,  0, 13]])"
      ]
     },
     "metadata": {},
     "output_type": "display_data"
    },
    {
     "name": "stdout",
     "output_type": "stream",
     "text": [
      "precision score (micro) = 0.9777777777777777\n",
      "precision score (macro) = 0.9761904761904763\n",
      "precision score (weighted) = 0.9793650793650793\n",
      "recall score (micro) = 0.9777777777777777\n",
      "recall score (macro) = 0.9743589743589745\n",
      "recall score (weighted) = 0.9777777777777777\n",
      "F1 score (micro) = 0.9777777777777777\n",
      "F1 score (macro) = 0.974320987654321\n",
      "F1 score (weighted) = 0.9777448559670783\n"
     ]
    }
   ],
   "source": [
    "# Print Accuracy\n",
    "print('accuracy score =',metrics.accuracy_score(y_test, y_pred_test_tree))\n",
    "# Print Confusion matrix\n",
    "print('confusion matrix')\n",
    "display(metrics.confusion_matrix(y_test, y_pred_test_tree))\n",
    "# Print Precision\n",
    "print('precision score (micro) =',metrics.precision_score(y_test, y_pred_test_tree, average='micro'))\n",
    "print('precision score (macro) =',metrics.precision_score(y_test, y_pred_test_tree, average='macro'))\n",
    "print('precision score (weighted) =',metrics.precision_score(y_test, y_pred_test_tree, average='weighted'))\n",
    "# print('precision score (samples) =',metrics.precision_score(y_test, y_pred_test_tree, average='samples'))\n",
    "# Print Recall\n",
    "print('recall score (micro) =',metrics.recall_score(y_test, y_pred_test_tree, average='micro'))\n",
    "print('recall score (macro) =',metrics.recall_score(y_test, y_pred_test_tree, average='macro'))\n",
    "print('recall score (weighted) =',metrics.recall_score(y_test, y_pred_test_tree, average='weighted'))\n",
    "# print('precision score (samples) =',metrics.recall_score(y_test, y_pred_test_tree, average='samples'))\n",
    "# Print F1-score\n",
    "print('F1 score (micro) =',metrics.f1_score(y_test, y_pred_test_tree, average='micro'))\n",
    "print('F1 score (macro) =',metrics.f1_score(y_test, y_pred_test_tree, average='macro'))\n",
    "print('F1 score (weighted) =',metrics.f1_score(y_test, y_pred_test_tree, average='weighted'))"
   ]
  },
  {
   "cell_type": "markdown",
   "metadata": {},
   "source": [
    "## Random forests"
   ]
  },
  {
   "cell_type": "markdown",
   "metadata": {},
   "source": [
    "Explain here how they work in your own words:"
   ]
  },
  {
   "cell_type": "markdown",
   "metadata": {},
   "source": [
    " "
   ]
  },
  {
   "cell_type": "code",
   "execution_count": 108,
   "metadata": {},
   "outputs": [],
   "source": [
    "# Load dataset\n",
    "iris = load_iris()\n",
    "X = iris.data[:, 2:] # petal length and width\n",
    "y = iris.target"
   ]
  },
  {
   "cell_type": "code",
   "execution_count": 109,
   "metadata": {},
   "outputs": [],
   "source": [
    "# Splitting data \n",
    "X_train, X_test, y_train, y_test = train_test_split(X, y, test_size= 0.3, random_state=42)"
   ]
  },
  {
   "cell_type": "code",
   "execution_count": 78,
   "metadata": {},
   "outputs": [
    {
     "data": {
      "text/plain": [
       "RandomForestClassifier(max_depth=2, n_estimators=2, random_state=3)"
      ]
     },
     "execution_count": 78,
     "metadata": {},
     "output_type": "execute_result"
    }
   ],
   "source": [
    "# fit a Random Forest classifier \n",
    "rf_model = RandomForestClassifier(random_state=3, max_depth=2, n_estimators=2)\n",
    "rf_model.fit(X_train, y_train)"
   ]
  },
  {
   "cell_type": "code",
   "execution_count": 79,
   "metadata": {},
   "outputs": [
    {
     "data": {
      "text/plain": [
       "array([1, 0, 2, 1, 2, 0, 1, 2, 1, 1, 2, 0, 0, 0, 0, 1, 2, 1, 1, 2, 0, 2,\n",
       "       0, 2, 2, 2, 2, 2, 0, 0, 0, 0, 1, 0, 0, 2, 1, 0, 0, 0, 2, 1, 1, 0,\n",
       "       0])"
      ]
     },
     "execution_count": 79,
     "metadata": {},
     "output_type": "execute_result"
    }
   ],
   "source": [
    "# make predictions on the test set\n",
    "y_pred_test_rf = rf_model.predict(X_test)\n",
    "y_pred_test_rf"
   ]
  },
  {
   "cell_type": "code",
   "execution_count": 80,
   "metadata": {},
   "outputs": [
    {
     "data": {
      "text/plain": [
       "array([1, 0, 2, 1, 1, 0, 1, 2, 1, 1, 2, 0, 0, 0, 0, 1, 2, 1, 1, 2, 0, 2,\n",
       "       0, 2, 2, 2, 2, 2, 0, 0, 0, 0, 1, 0, 0, 2, 1, 0, 0, 0, 2, 1, 1, 0,\n",
       "       0])"
      ]
     },
     "execution_count": 80,
     "metadata": {},
     "output_type": "execute_result"
    }
   ],
   "source": [
    "y_test"
   ]
  },
  {
   "cell_type": "code",
   "execution_count": 81,
   "metadata": {},
   "outputs": [
    {
     "name": "stdout",
     "output_type": "stream",
     "text": [
      "accuracy score = 0.9777777777777777\n",
      "confusion matrix\n"
     ]
    },
    {
     "data": {
      "text/plain": [
       "array([[19,  0,  0],\n",
       "       [ 0, 12,  1],\n",
       "       [ 0,  0, 13]])"
      ]
     },
     "metadata": {},
     "output_type": "display_data"
    },
    {
     "name": "stdout",
     "output_type": "stream",
     "text": [
      "precision score (micro) = 0.9777777777777777\n",
      "precision score (macro) = 0.9761904761904763\n",
      "precision score (weighted) = 0.9793650793650793\n",
      "recall score (micro) = 0.9777777777777777\n",
      "recall score (macro) = 0.9743589743589745\n",
      "recall score (weighted) = 0.9777777777777777\n",
      "F1 score (micro) = 0.9777777777777777\n",
      "F1 score (macro) = 0.974320987654321\n",
      "F1 score (weighted) = 0.9777448559670783\n"
     ]
    }
   ],
   "source": [
    "# Print Accuracy\n",
    "print('accuracy score =',metrics.accuracy_score(y_test, y_pred_test_rf))\n",
    "# Print Confusion matrix\n",
    "print('confusion matrix')\n",
    "display(metrics.confusion_matrix(y_test, y_pred_test_rf))\n",
    "# Print Precision\n",
    "print('precision score (micro) =',metrics.precision_score(y_test, y_pred_test_rf, average='micro'))\n",
    "print('precision score (macro) =',metrics.precision_score(y_test, y_pred_test_rf, average='macro'))\n",
    "print('precision score (weighted) =',metrics.precision_score(y_test, y_pred_test_rf, average='weighted'))\n",
    "# print('precision score (samples) =',metrics.precision_score(y_test, y_pred_test_tree, average='samples'))\n",
    "# Print Recall\n",
    "print('recall score (micro) =',metrics.recall_score(y_test, y_pred_test_rf, average='micro'))\n",
    "print('recall score (macro) =',metrics.recall_score(y_test, y_pred_test_rf, average='macro'))\n",
    "print('recall score (weighted) =',metrics.recall_score(y_test, y_pred_test_rf, average='weighted'))\n",
    "# print('precision score (samples) =',metrics.recall_score(y_test, y_pred_test_tree, average='samples'))\n",
    "# Print F1-score\n",
    "print('F1 score (micro) =',metrics.f1_score(y_test, y_pred_test_rf, average='micro'))\n",
    "print('F1 score (macro) =',metrics.f1_score(y_test, y_pred_test_rf, average='macro'))\n",
    "print('F1 score (weighted) =',metrics.f1_score(y_test, y_pred_test_rf, average='weighted'))"
   ]
  },
  {
   "cell_type": "markdown",
   "metadata": {},
   "source": [
    "## SVM"
   ]
  },
  {
   "cell_type": "markdown",
   "metadata": {},
   "source": [
    "Explain here how they work in your own words:"
   ]
  },
  {
   "cell_type": "code",
   "execution_count": 21,
   "metadata": {},
   "outputs": [],
   "source": [
    "# Book example SVM: iris dataset\n"
   ]
  },
  {
   "cell_type": "code",
   "execution_count": 22,
   "metadata": {},
   "outputs": [
    {
     "name": "stderr",
     "output_type": "stream",
     "text": [
      "/home/fernando.arroyo@Digital-Grenoble.local/anaconda3/lib/python3.9/site-packages/sklearn/svm/_base.py:985: ConvergenceWarning: Liblinear failed to converge, increase the number of iterations.\n",
      "  warnings.warn(\"Liblinear failed to converge, increase \"\n"
     ]
    },
    {
     "data": {
      "text/plain": [
       "Pipeline(steps=[('standardscaler', StandardScaler()),\n",
       "                ('linearsvc', LinearSVC(C=10, loss='hinge'))])"
      ]
     },
     "execution_count": 22,
     "metadata": {},
     "output_type": "execute_result"
    }
   ],
   "source": [
    "# fit a linear SVM classifier\n",
    "svc_model = make_pipeline(StandardScaler(), LinearSVC(C=10, loss=\"hinge\"))\n",
    "svc_model.fit(X_train, y_train)"
   ]
  },
  {
   "cell_type": "code",
   "execution_count": 23,
   "metadata": {},
   "outputs": [
    {
     "data": {
      "text/plain": [
       "array([1, 0, 2, 1, 1, 0, 1, 2, 1, 1, 2, 0, 0, 0, 0, 2, 2, 1, 1, 2, 0, 2,\n",
       "       0, 2, 2, 2, 2, 2, 0, 0])"
      ]
     },
     "execution_count": 23,
     "metadata": {},
     "output_type": "execute_result"
    }
   ],
   "source": [
    "# make predictions on the test set\n",
    "y_pred_test_svc = svc_model.predict(X_test)\n",
    "y_pred_test_svc"
   ]
  },
  {
   "cell_type": "code",
   "execution_count": 24,
   "metadata": {},
   "outputs": [
    {
     "name": "stdout",
     "output_type": "stream",
     "text": [
      "accuracy score = 0.9666666666666667\n",
      "confusion matrix\n"
     ]
    },
    {
     "data": {
      "text/plain": [
       "array([[10,  0,  0],\n",
       "       [ 0,  8,  1],\n",
       "       [ 0,  0, 11]])"
      ]
     },
     "metadata": {},
     "output_type": "display_data"
    },
    {
     "name": "stdout",
     "output_type": "stream",
     "text": [
      "precision score (micro) = 0.9666666666666667\n",
      "precision score (macro) = 0.9722222222222222\n",
      "precision score (weighted) = 0.9694444444444444\n",
      "recall score (micro) = 0.9666666666666667\n",
      "recall score (macro) = 0.9629629629629629\n",
      "recall score (weighted) = 0.9666666666666667\n",
      "F1 score (micro) = 0.9666666666666667\n",
      "F1 score (macro) = 0.9658994032395567\n",
      "F1 score (weighted) = 0.9664109121909632\n"
     ]
    }
   ],
   "source": [
    "# Print Accuracy\n",
    "print('accuracy score =',metrics.accuracy_score(y_test, y_pred_test_svc))\n",
    "# Print Confusion matrix\n",
    "print('confusion matrix')\n",
    "display(metrics.confusion_matrix(y_test, y_pred_test_svc))\n",
    "# Print Precision\n",
    "print('precision score (micro) =',metrics.precision_score(y_test, y_pred_test_svc, average='micro'))\n",
    "print('precision score (macro) =',metrics.precision_score(y_test, y_pred_test_svc, average='macro'))\n",
    "print('precision score (weighted) =',metrics.precision_score(y_test, y_pred_test_svc, average='weighted'))\n",
    "# print('precision score (samples) =',metrics.precision_score(y_test, y_pred_test_tree, average='samples'))\n",
    "# Print Recall\n",
    "print('recall score (micro) =',metrics.recall_score(y_test, y_pred_test_svc, average='micro'))\n",
    "print('recall score (macro) =',metrics.recall_score(y_test, y_pred_test_svc, average='macro'))\n",
    "print('recall score (weighted) =',metrics.recall_score(y_test, y_pred_test_svc, average='weighted'))\n",
    "# print('precision score (samples) =',metrics.recall_score(y_test, y_pred_test_tree, average='samples'))\n",
    "# Print F1-score\n",
    "print('F1 score (micro) =',metrics.f1_score(y_test, y_pred_test_svc, average='micro'))\n",
    "print('F1 score (macro) =',metrics.f1_score(y_test, y_pred_test_svc, average='macro'))\n",
    "print('F1 score (weighted) =',metrics.f1_score(y_test, y_pred_test_svc, average='weighted'))"
   ]
  },
  {
   "cell_type": "markdown",
   "metadata": {},
   "source": [
    "## Learning curves"
   ]
  },
  {
   "cell_type": "markdown",
   "metadata": {},
   "source": [
    "### Book example"
   ]
  },
  {
   "cell_type": "code",
   "execution_count": 142,
   "metadata": {},
   "outputs": [],
   "source": [
    "# Book Dataset\n",
    "m = 100\n",
    "X = 6 * np.random.rand(m, 1) - 3\n",
    "y = 0.5 * X**2 + X + 2 + np.random.randn(m, 1)"
   ]
  },
  {
   "cell_type": "code",
   "execution_count": 176,
   "metadata": {},
   "outputs": [],
   "source": [
    "# Implement the book’s code on learning curves on the data he has used.\n",
    "def plot_learning_curves(model, X, y):\n",
    "    X_train, X_val, y_train, y_val = train_test_split(X, y, test_size=0.2)\n",
    "    train_errors, val_errors = [], []\n",
    "    \n",
    "    for m in range(1, len(X_train)):\n",
    "        model.fit(X_train[:m], y_train[:m])\n",
    "        y_train_predict = model.predict(X_train[:m])\n",
    "        y_val_predict = model.predict(X_val)\n",
    "        train_errors.append(metrics.accuracy_score(y_train[:m], y_train_predict))\n",
    "        val_errors.append(metrics.accuracy_score(y_val, y_val_predict))\n",
    "    \n",
    "    plt.plot(np.sqrt(train_errors), \"r-+\", linewidth=2, label=\"train\")\n",
    "    plt.plot(np.sqrt(val_errors), \"b-\", linewidth=3, label=\"val\")\n"
   ]
  },
  {
   "cell_type": "code",
   "execution_count": 183,
   "metadata": {},
   "outputs": [],
   "source": [
    "# Load dataset\n",
    "iris = load_iris()\n",
    "X = iris.data[:, 2:] # petal length and width\n",
    "y = iris.target\n",
    "\n",
    "rf_model = RandomForestClassifier(random_state=3, max_depth=10, n_estimators=100)"
   ]
  },
  {
   "cell_type": "code",
   "execution_count": 184,
   "metadata": {},
   "outputs": [
    {
     "data": {
      "image/png": "[encoded data removed]",
      "text/plain": [
       "<Figure size 432x288 with 1 Axes>"
      ]
     },
     "metadata": {
      "needs_background": "light"
     },
     "output_type": "display_data"
    }
   ],
   "source": [
    "# Plotting an overfitted model =\n",
    "plot_learning_curves(rf_model, X, y)"
   ]
  },
  {
   "cell_type": "code",
   "execution_count": 143,
   "metadata": {},
   "outputs": [
    {
     "data": {
      "image/png": "[encoded data removed]",
      "text/plain": [
       "<Figure size 432x288 with 1 Axes>"
      ]
     },
     "metadata": {
      "needs_background": "light"
     },
     "output_type": "display_data"
    }
   ],
   "source": [
    "#testing book's lineaire regression model \n",
    "lin_reg = LinearRegression()\n",
    "plot_learning_curves(lin_reg, X, y)"
   ]
  },
  {
   "cell_type": "code",
   "execution_count": null,
   "metadata": {},
   "outputs": [],
   "source": [
    "# Splitting data \n",
    "# X_train, X_test, y_train, y_test = train_test_split(X, y, test_size= 0.2, random_state=42)"
   ]
  },
  {
   "cell_type": "code",
   "execution_count": 166,
   "metadata": {},
   "outputs": [
    {
     "name": "stderr",
     "output_type": "stream",
     "text": [
      "/home/fernando.arroyo@Digital-Grenoble.local/anaconda3/lib/python3.9/site-packages/sklearn/model_selection/_validation.py:1487: RuntimeWarning: Removed duplicate entries from 'train_sizes'. Number of ticks will be less than the size of 'train_sizes' 96 instead of 100).\n",
      "  warnings.warn(\"Removed duplicate entries from 'train_sizes'. Number \"\n",
      "/home/fernando.arroyo@Digital-Grenoble.local/anaconda3/lib/python3.9/site-packages/sklearn/metrics/_regression.py:682: UndefinedMetricWarning: R^2 score is not well-defined with less than two samples.\n",
      "  warnings.warn(msg, UndefinedMetricWarning)\n",
      "/home/fernando.arroyo@Digital-Grenoble.local/anaconda3/lib/python3.9/site-packages/sklearn/metrics/_regression.py:682: UndefinedMetricWarning: R^2 score is not well-defined with less than two samples.\n",
      "  warnings.warn(msg, UndefinedMetricWarning)\n",
      "/home/fernando.arroyo@Digital-Grenoble.local/anaconda3/lib/python3.9/site-packages/sklearn/metrics/_regression.py:682: UndefinedMetricWarning: R^2 score is not well-defined with less than two samples.\n",
      "  warnings.warn(msg, UndefinedMetricWarning)\n",
      "/home/fernando.arroyo@Digital-Grenoble.local/anaconda3/lib/python3.9/site-packages/sklearn/metrics/_regression.py:682: UndefinedMetricWarning: R^2 score is not well-defined with less than two samples.\n",
      "  warnings.warn(msg, UndefinedMetricWarning)\n",
      "/home/fernando.arroyo@Digital-Grenoble.local/anaconda3/lib/python3.9/site-packages/sklearn/metrics/_regression.py:682: UndefinedMetricWarning: R^2 score is not well-defined with less than two samples.\n",
      "  warnings.warn(msg, UndefinedMetricWarning)\n"
     ]
    },
    {
     "name": "stdout",
     "output_type": "stream",
     "text": [
      "[ 1  2  3  4  5  6  7  8  9 10 11 12 13 14 15 16 17 18 19 20 21 22 23 24\n",
      " 25 26 27 28 29 30 31 32 33 34 35 36 37 38 39 40 41 42 43 44 45 46 47 48\n",
      " 49 50 51 52 53 54 55 56 57 58 59 60 61 62 63 64 65 66 67 68 69 70 71 72\n",
      " 73 74 75 76 77 78 79 80 81 82 83 84 85 86 87 88 89 90 91 92 93 94 95 96]\n"
     ]
    },
    {
     "data": {
      "text/plain": [
       "<matplotlib.legend.Legend at 0x7fcc61587cd0>"
      ]
     },
     "execution_count": 166,
     "metadata": {},
     "output_type": "execute_result"
    },
    {
     "data": {
      "image/png": "[encoded data removed]",
      "text/plain": [
       "<Figure size 432x288 with 1 Axes>"
      ]
     },
     "metadata": {
      "needs_background": "light"
     },
     "output_type": "display_data"
    }
   ],
   "source": [
    "# comparing results with the lmearning curve function \n",
    "X_train, X_test, y_train, y_test = train_test_split(X, y, test_size= 0.2, random_state=42)\n",
    "\n",
    "N, train_score, val_score = learning_curve(lin_reg, X_train, y_train,\n",
    "                                           train_sizes=np.linspace(0.01, 1, 100), cv=5)\n",
    "\n",
    "print(N)\n",
    "plt.plot(N, train_score.mean(axis=1), label='train')\n",
    "plt.plot(N, val_score.mean(axis=1), label='validation')\n",
    "plt.xlabel('train_sizes')\n",
    "plt.legend()"
   ]
  },
  {
   "cell_type": "code",
   "execution_count": null,
   "metadata": {},
   "outputs": [],
   "source": []
  },
  {
   "cell_type": "markdown",
   "metadata": {},
   "source": [
    "Change the method so that instead of having an incremental training set size going from 1 to the size of X_train, you have a fixed set of training sizes.\n",
    "For example: \n",
    "\n",
    "training_set_sizes = np.linspace(2, len(X_train), len(X_train), dtype='int')\n",
    "\n",
    "or \n",
    "\n",
    "training_set_sizes = [1, 10, 20, 30, 40, 50, 60, 70, 80]"
   ]
  },
  {
   "cell_type": "code",
   "execution_count": 136,
   "metadata": {},
   "outputs": [],
   "source": [
    "# Method that plots learning curves for a given estimator and training_set_sizes for linear models \n",
    "\n",
    "def plotting_learning_curves(model, X, y, training_set_sizes):\n",
    "    X_train, X_val, y_train, y_val = train_test_split(X, y, test_size=0.2)\n",
    "    train_errors, val_errors = [], []\n",
    "    \n",
    "    for m in training_set_sizes:\n",
    "        model.fit(X_train[:m], y_train[:m])\n",
    "        y_train_predict = model.predict(X_train)\n",
    "        y_val_predict = model.predict(X_val)\n",
    "        train_errors.append(mean_squared_error(y_train, y_train_predict))\n",
    "        val_errors.append(mean_squared_error(y_val, y_val_predict))\n",
    "    \n",
    "    plt.plot(np.sqrt(train_errors), \"r-+\", linewidth=2, label=\"train\")\n",
    "    plt.plot(np.sqrt(val_errors), \"b-\", linewidth=3, label=\"val\")\n",
    "    plt.legend()\n",
    "    plt.show()\n"
   ]
  },
  {
   "cell_type": "code",
   "execution_count": null,
   "metadata": {},
   "outputs": [],
   "source": [
    "training_set_sizes = [1, 20, 40, 60, 80, 100, 120, 140, 160, 180, 200]"
   ]
  },
  {
   "cell_type": "code",
   "execution_count": 141,
   "metadata": {},
   "outputs": [
    {
     "data": {
      "text/plain": [
       "<matplotlib.legend.Legend at 0x7fcc61686370>"
      ]
     },
     "execution_count": 141,
     "metadata": {},
     "output_type": "execute_result"
    },
    {
     "data": {
      "image/png": "[encoded data removed]",
      "text/plain": [
       "<Figure size 432x288 with 1 Axes>"
      ]
     },
     "metadata": {
      "needs_background": "light"
     },
     "output_type": "display_data"
    }
   ],
   "source": [
    "lin_reg = LinearRegression()\n",
    "plotting_learning_curves(lin_reg, X, y, training_set_sizes)\n",
    "plt.legend()"
   ]
  },
  {
   "cell_type": "markdown",
   "metadata": {},
   "source": [
    "## Learning curves for classifiers"
   ]
  },
  {
   "cell_type": "markdown",
   "metadata": {},
   "source": [
    "Implement a ML problem on a dataset you have already seen in the course. \n",
    "\n",
    "Produce a plot of a model which shows signs of underfitting, and one that shows signs of overfitting."
   ]
  },
  {
   "cell_type": "code",
   "execution_count": 145,
   "metadata": {},
   "outputs": [],
   "source": [
    "# Load dataset\n",
    "iris = load_iris()\n",
    "X = iris.data[:, 2:] # petal length and width\n",
    "y = iris.target"
   ]
  },
  {
   "cell_type": "code",
   "execution_count": 146,
   "metadata": {},
   "outputs": [],
   "source": [
    "# fit a Random Forest classifier \n",
    "# rf_model.fit(X_train, y_train)"
   ]
  },
  {
   "cell_type": "code",
   "execution_count": 165,
   "metadata": {},
   "outputs": [
    {
     "ename": "SyntaxError",
     "evalue": "positional argument follows keyword argument (2034354015.py, line 6)",
     "output_type": "error",
     "traceback": [
      "\u001b[0;36m  File \u001b[0;32m\"/tmp/ipykernel_16198/2034354015.py\"\u001b[0;36m, line \u001b[0;32m6\u001b[0m\n\u001b[0;31m    N, train_score, val_score = learning_curve(estimator, X_train, y_train, n_jobs=n_jobs, train_sizes, cv=cv)\u001b[0m\n\u001b[0m                                                                                                             ^\u001b[0m\n\u001b[0;31mSyntaxError\u001b[0m\u001b[0;31m:\u001b[0m positional argument follows keyword argument\n"
     ]
    }
   ],
   "source": [
    "def plot_learning_curve(estimator, X, y, title=None, axes=None, ylim=None, cv=5, n_jobs=None, \n",
    "                        train_sizes=np.linspace(0.01, 1, 10)):\n",
    "    \n",
    "    X_train, X_test, y_train, y_test = train_test_split(X, y, test_size= 0.2, random_state=42)\n",
    "\n",
    "    N, train_score, val_score = learning_curve(estimator, X_train, y_train, n_jobs=n_jobs, train_sizes, cv=cv)\n",
    "\n",
    "    plt.plot(N, train_score.mean(axis=1), label='train')\n",
    "    plt.plot(N, val_score.mean(axis=1), label='validation')\n",
    "    plt.xlabel('train_sizes')\n",
    "    plt.legend()\n",
    "    plt.title(title)\n",
    "    plt.ylim(ylim)\n",
    "    plt.axes(axes)\n",
    "    plt.show()\n"
   ]
  },
  {
   "cell_type": "code",
   "execution_count": 157,
   "metadata": {},
   "outputs": [
    {
     "ename": "TypeError",
     "evalue": "Cannot interpret '1.0' as a data type",
     "output_type": "error",
     "traceback": [
      "\u001b[0;31m---------------------------------------------------------------------------\u001b[0m",
      "\u001b[0;31mTypeError\u001b[0m                                 Traceback (most recent call last)",
      "\u001b[0;32m/tmp/ipykernel_16198/4238603196.py\u001b[0m in \u001b[0;36m<module>\u001b[0;34m\u001b[0m\n\u001b[0;32m----> 1\u001b[0;31m \u001b[0mnp\u001b[0m\u001b[0;34m.\u001b[0m\u001b[0marray\u001b[0m\u001b[0;34m(\u001b[0m\u001b[0;36m.1\u001b[0m\u001b[0;34m,\u001b[0m \u001b[0;36m1.0\u001b[0m\u001b[0;34m)\u001b[0m\u001b[0;34m\u001b[0m\u001b[0;34m\u001b[0m\u001b[0m\n\u001b[0m",
      "\u001b[0;31mTypeError\u001b[0m: Cannot interpret '1.0' as a data type"
     ]
    }
   ],
   "source": []
  },
  {
   "cell_type": "code",
   "execution_count": 158,
   "metadata": {},
   "outputs": [
    {
     "data": {
      "text/plain": [
       "array([0.01, 0.12, 0.23, 0.34, 0.45, 0.56, 0.67, 0.78, 0.89, 1.  ])"
      ]
     },
     "execution_count": 158,
     "metadata": {},
     "output_type": "execute_result"
    }
   ],
   "source": [
    "np.linspace(0.01, 1, 10)"
   ]
  },
  {
   "cell_type": "code",
   "execution_count": 155,
   "metadata": {},
   "outputs": [
    {
     "data": {
      "text/plain": [
       "0.44999999999999996"
      ]
     },
     "execution_count": 155,
     "metadata": {},
     "output_type": "execute_result"
    }
   ],
   "source": [
    "\n",
    "test_size=(1 - .55)\n",
    "test_size"
   ]
  },
  {
   "cell_type": "markdown",
   "metadata": {},
   "source": [
    "## Decision trees learning curves"
   ]
  },
  {
   "cell_type": "code",
   "execution_count": null,
   "metadata": {},
   "outputs": [],
   "source": [
    "# import the dataset you want"
   ]
  },
  {
   "cell_type": "code",
   "execution_count": null,
   "metadata": {},
   "outputs": [],
   "source": [
    "# do all the pre-rpocessing that is needed"
   ]
  },
  {
   "cell_type": "code",
   "execution_count": null,
   "metadata": {},
   "outputs": [],
   "source": [
    "# Underfit model\n",
    "# Train a decision tree with max_depth=2"
   ]
  },
  {
   "cell_type": "code",
   "execution_count": null,
   "metadata": {},
   "outputs": [],
   "source": [
    "# Overfit model\n",
    "# Train a decision tree with max_depth=10"
   ]
  },
  {
   "cell_type": "markdown",
   "metadata": {},
   "source": [
    "## Random forests classifier learning curves"
   ]
  },
  {
   "cell_type": "code",
   "execution_count": null,
   "metadata": {},
   "outputs": [],
   "source": [
    "# Underfit model"
   ]
  },
  {
   "cell_type": "code",
   "execution_count": null,
   "metadata": {},
   "outputs": [],
   "source": [
    "# Overfit model"
   ]
  },
  {
   "cell_type": "markdown",
   "metadata": {},
   "source": [
    "## SVM"
   ]
  },
  {
   "cell_type": "code",
   "execution_count": null,
   "metadata": {},
   "outputs": [],
   "source": [
    "# Underfit model?\n"
   ]
  },
  {
   "cell_type": "code",
   "execution_count": null,
   "metadata": {},
   "outputs": [],
   "source": [
    "# Overfit model?\n"
   ]
  },
  {
   "cell_type": "markdown",
   "metadata": {},
   "source": [
    "https://towardsdatascience.com/a-brief-introduction-to-support-vector-machine-adf0f103a80f\n",
    "\n",
    "\n",
    "SVM Advantages:\n",
    "\n",
    "- SVM’s are very good when we have no idea on the data.\n",
    "- Works well with even unstructured and semi structured data like text, Images and trees.\n",
    "- The kernel trick is real strength of SVM. With an appropriate kernel function, we can solve any complex problem.\n",
    "- Unlike in neural networks, SVM is not solved for local optima.\n",
    "- It scales relatively well to high dimensional data.\n",
    "- SVM models have generalization in practice, the risk of over-fitting is less in SVM.\n",
    "\n",
    "SVM Disadvantages:\n",
    "\n",
    "- Choosing a “good” kernel function is not easy.\n",
    "- Long training time for large datasets.\n",
    "- Difficult to understand and interpret the final model, variable weights and individual impact.\n",
    "- The SVM hyper parameters are Cost -C and gamma. It is not that easy to fine-tune these hyper-parameters. It is hard to visualize their impact"
   ]
  },
  {
   "cell_type": "markdown",
   "metadata": {},
   "source": [
    "## Validation curves"
   ]
  },
  {
   "cell_type": "markdown",
   "metadata": {},
   "source": [
    "Validation curves are a useful tool for improving the performance of a model by addressing issues such as overfitting or underfitting. Validation curves are related to learning curves, but instead of plotting the training and test accuracies as functions of the sample size, we vary the values of the model parameters. They are complementaru of GridSearch and make for a very nice visual tool for ypur algorithm optimization. \n"
   ]
  },
  {
   "cell_type": "code",
   "execution_count": null,
   "metadata": {},
   "outputs": [],
   "source": [
    "from sklearn.model_selection import validation_curve\n",
    "def plot_validation_curve(estimator, title, X, y, axes=None, ylim=None, cv=None, n_jobs=None, param_range=None, paran_name=None):\n",
    "\n",
    "    # create your method to plot your learning curves using the sklearn method validation_curve()\n",
    "\n",
    "    "
   ]
  },
  {
   "cell_type": "markdown",
   "metadata": {},
   "source": [
    "Plot the validation curves for a chosen algorithm and vary 1 or 2 parameters of your choice."
   ]
  },
  {
   "cell_type": "code",
   "execution_count": null,
   "metadata": {},
   "outputs": [],
   "source": []
  },
  {
   "cell_type": "markdown",
   "metadata": {},
   "source": [
    "Do a GridSearch and see if the most optimal parameter is coherent with what you see on your validation curves"
   ]
  },
  {
   "cell_type": "code",
   "execution_count": null,
   "metadata": {},
   "outputs": [],
   "source": []
  }
 ],
 "metadata": {
  "kernelspec": {
   "display_name": "Python 3 (ipykernel)",
   "language": "python",
   "name": "python3"
  },
  "language_info": {
   "codemirror_mode": {
    "name": "ipython",
    "version": 3
   },
   "file_extension": ".py",
   "mimetype": "text/x-python",
   "name": "python",
   "nbconvert_exporter": "python",
   "pygments_lexer": "ipython3",
   "version": "3.9.7"
  },
  "toc": {
   "base_numbering": 1,
   "nav_menu": {},
   "number_sections": true,
   "sideBar": true,
   "skip_h1_title": false,
   "title_cell": "Table of Contents",
   "title_sidebar": "Contents",
   "toc_cell": false,
   "toc_position": {},
   "toc_section_display": true,
   "toc_window_display": false
  },
  "varInspector": {
   "cols": {
    "lenName": 16,
    "lenType": 16,
    "lenVar": 40
   },
   "kernels_config": {
    "python": {
     "delete_cmd_postfix": "",
     "delete_cmd_prefix": "del ",
     "library": "var_list.py",
     "varRefreshCmd": "print(var_dic_list())"
    },
    "r": {
     "delete_cmd_postfix": ") ",
     "delete_cmd_prefix": "rm(",
     "library": "var_list.r",
     "varRefreshCmd": "cat(var_dic_list()) "
    }
   },
   "types_to_exclude": [
    "module",
    "function",
    "builtin_function_or_method",
    "instance",
    "_Feature"
   ],
   "window_display": false
  }
 },
 "nbformat": 4,
 "nbformat_minor": 4
}
