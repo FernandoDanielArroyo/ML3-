{
 "cells": [
  {
   "cell_type": "markdown",
   "id": "bb02590e-9a07-4bba-a7ed-68f6f3a1847a",
   "metadata": {},
   "source": [
    "## PACKAGES "
   ]
  },
  {
   "cell_type": "code",
   "execution_count": 130,
   "id": "3059f632-66ca-4c70-a9c0-38ec1795c083",
   "metadata": {},
   "outputs": [],
   "source": [
    "# import packages \n",
    "import pandas as pd \n",
    "import numpy as np \n",
    "from scipy.spatial.distance import cdist \n",
    "from sklearn.decomposition import PCA\n",
    "import matplotlib.pyplot as plt \n",
    "from sklearn.datasets import make_blobs"
   ]
  },
  {
   "cell_type": "markdown",
   "id": "f05b0753-a623-42e1-bc70-89165fa2067f",
   "metadata": {},
   "source": [
    "## DATA"
   ]
  },
  {
   "cell_type": "code",
   "execution_count": 2,
   "id": "a99fc039-5a0b-4a17-8cae-64d06bf9ab49",
   "metadata": {
    "tags": []
   },
   "outputs": [],
   "source": [
    "# importing iris dataset \n",
    "from sklearn.datasets import load_iris\n",
    "\n",
    "# Load dataset\n",
    "iris = load_iris()\n",
    "X = iris.data[:, 2:] # petal length and width\n",
    "y = iris.target\n",
    "\n",
    "df = pd.DataFrame(X)\n",
    "df_np = np.array(df)"
   ]
  },
  {
   "cell_type": "code",
   "execution_count": 132,
   "id": "434b9361-4e3e-4117-8798-a103efa97b42",
   "metadata": {},
   "outputs": [],
   "source": [
    "# creating an other data set \n",
    "X, y = make_blobs(n_samples=100, centers=3, n_features=2, random_state=0)"
   ]
  },
  {
   "cell_type": "markdown",
   "id": "286acd15-d8da-41f4-b979-4a34c02ae203",
   "metadata": {},
   "source": [
    "## KMEANS IMPLEMENTATION "
   ]
  },
  {
   "cell_type": "markdown",
   "id": "628ea8af-0538-4b49-9f06-246a3f5acb13",
   "metadata": {},
   "source": [
    "### List of steps to follow \n",
    "Step 1. Randomly pick k data points as our initial Centroids.\n",
    "\n",
    "Step 2. Find the distance (Euclidean distance) between each data points in our training set with the k centroids.\n",
    "\n",
    "Step 3. Now assign each data point to the closest centroid according to the distance found.\n",
    "\n",
    "Step 4. Update centroid location by taking the average of the points in each cluster group.\n",
    "\n",
    "Step 5. Repeat the Steps 2 to 4 n times (or till our centroids don’t change).\n"
   ]
  },
  {
   "cell_type": "code",
   "execution_count": 8,
   "id": "0f127657-17a3-4eb6-9210-355356f9326b",
   "metadata": {
    "tags": []
   },
   "outputs": [],
   "source": [
    "# def kmeans_implementation(X, n_clusters, n_iterations):\n",
    "\n",
    "# # coverting X in np.array if dataframe is given\n",
    "#     if type(X) != 'numpy.ndarray':\n",
    "#         X = np.array(X)\n",
    "\n",
    "# # Step 1. Randomly pick k data points as our initial Centroids. \n",
    "#     index = np.random.choice(len(X), n_clusters, replace=False)\n",
    "#     random_centroids = X[index, : ]\n",
    "#     # centroids = X[index, : ]\n",
    "\n",
    "# # Step 2. Find the distance (Euclidean distance) between each data points in our training set with the k centroids.\n",
    "#     distances = cdist(X, random_centroids,'euclidean')\n",
    "#     # distances = cdist(X, centroids,'euclidean')\n",
    "    \n",
    "# # Step 3. Now assign each data point to the closest centroid according to the distance found.\n",
    "#     clusters = []\n",
    "#     for dist in distances:\n",
    "#         clusters.append(np.argmin(dist))\n",
    "#     clusters = np.array(clusters)\n",
    "    \n",
    "\n",
    "# # Step 4. Update centroid location by taking the average of the points in each cluster group.\n",
    "# # Step 5. Repeat the Steps 2 to 4 n times (n_iterations)\n",
    "#     for iteration in range(n_iterations):\n",
    "#         # centroids = []\n",
    "#         random_centroids = []\n",
    "        \n",
    "# # taking the average of the points in each cluster group\n",
    "#         for cluster in range(n_clusters):\n",
    "#             center_mean = X[clusters==cluster].mean(axis=0)\n",
    "#             # centroids.append(center_mean)\n",
    "#             random_centroids.append(center_mean)\n",
    "            \n",
    "# # updating centroids         \n",
    "#         # centroids = np.vstack(centroids)\n",
    "#         random_centroids = np.vstack(random_centroids)\n",
    "        \n",
    "#         distances = cdist(X, random_centroids,'euclidean')\n",
    "#         # distances = cdist(X, centroids,'euclidean')\n",
    "        \n",
    "#         clusters = []\n",
    "#         for dist in distances:\n",
    "#             clusters.append(np.argmin(dist))\n",
    "#         clusters = np.array(clusters)\n",
    "        \n",
    "#     # return clusters, centroids\n",
    "#     return clusters, random_centroids\n",
    "    "
   ]
  },
  {
   "cell_type": "code",
   "execution_count": 34,
   "id": "be211537-d913-450a-888d-7b7f19a90b7e",
   "metadata": {},
   "outputs": [],
   "source": [
    "# def kmeans_implementation2(X, n_clusters, n_iterations):\n",
    "\n",
    "# # coverting X in np.array if dataframe is given\n",
    "#     if type(X) != 'numpy.ndarray':\n",
    "#         X = np.array(X)\n",
    "\n",
    "# # Step 1. Randomly pick k data points as our initial Centroids. \n",
    "#     index = np.random.choice(len(X), n_clusters, replace=False)\n",
    "#     # random_centroids = X[index, : ]\n",
    "#     centroids = X[index, : ]\n",
    "\n",
    "# # Step 2. Find the distance (Euclidean distance) between each data points in our training set with the k centroids.\n",
    "#     # distances = cdist(X, random_centroids,'euclidean')\n",
    "#     distances = cdist(X, centroids,'euclidean')\n",
    "    \n",
    "# # Step 3. Now assign each data point to the closest centroid according to the distance found.\n",
    "#     # clusters = []\n",
    "#     # for dist in distances:\n",
    "#     #     clusters.append(np.argmin(dist))\n",
    "#     # clusters = np.array(clusters)\n",
    "#     points = np.array([np.argmin(i) for i in distances])\n",
    "\n",
    "# # Step 4. Update centroid location by taking the average of the points in each cluster group.\n",
    "# # Step 5. Repeat the Steps 2 to 4 n times (n_iterations)\n",
    "#     for iteration in range(n_iterations):\n",
    "#         centroids = []\n",
    "#         # random_centroids = []\n",
    "        \n",
    "# # taking the average of the points in each cluster group\n",
    "#         for cluster in range(n_clusters):\n",
    "#             center_mean = X[points==cluster].mean(axis=0)\n",
    "#             centroids.append(center_mean)\n",
    "#             # random_centroids.append(center_mean)\n",
    "            \n",
    "# # updating centroids         \n",
    "#         centroids = np.vstack(centroids)\n",
    "#         # random_centroids = np.vstack(random_centroids)\n",
    "        \n",
    "#         # distances = cdist(X, random_centroids,'euclidean')\n",
    "#         distances = cdist(X, centroids,'euclidean')\n",
    "        \n",
    "#         points = np.array([np.argmin(i) for i in distances])\n",
    "#         # clusters = []\n",
    "#         # for dist in distances:\n",
    "#         #     clusters.append(np.argmin(dist))\n",
    "#         # clusters = np.array(clusters)\n",
    "        \n",
    "#     # return clusters, centroids\n",
    "#     return points, centroids\n",
    "    "
   ]
  },
  {
   "cell_type": "code",
   "execution_count": 45,
   "id": "958e894c-062d-47d0-b8ea-0a5f37c2f8e8",
   "metadata": {},
   "outputs": [],
   "source": [
    "points, centroids = kmeans_implementation(X, 3, 100)"
   ]
  },
  {
   "cell_type": "code",
   "execution_count": 46,
   "id": "ab0e404d-f14d-46c3-a3b6-9c9229c80640",
   "metadata": {},
   "outputs": [
    {
     "data": {
      "text/plain": [
       "array([[4.29259259, 1.35925926],\n",
       "       [5.62608696, 2.04782609],\n",
       "       [1.462     , 0.246     ]])"
      ]
     },
     "execution_count": 46,
     "metadata": {},
     "output_type": "execute_result"
    }
   ],
   "source": [
    "centroids"
   ]
  },
  {
   "cell_type": "code",
   "execution_count": 49,
   "id": "bbe8ef67-c24e-472f-9c17-97d0453aa621",
   "metadata": {},
   "outputs": [],
   "source": [
    "points2, centroids2 = kmeans_implementation2(X, 3, 100)"
   ]
  },
  {
   "cell_type": "code",
   "execution_count": 50,
   "id": "05570b0d-96a4-485e-9680-e6bd4fcd0a3b",
   "metadata": {},
   "outputs": [
    {
     "data": {
      "text/plain": [
       "array([[5.59583333, 2.0375    ],\n",
       "       [4.26923077, 1.34230769],\n",
       "       [1.462     , 0.246     ]])"
      ]
     },
     "execution_count": 50,
     "metadata": {},
     "output_type": "execute_result"
    }
   ],
   "source": [
    "centroids2"
   ]
  },
  {
   "cell_type": "code",
   "execution_count": 126,
   "id": "76cef52a-cf27-4928-940f-56d87e7213af",
   "metadata": {},
   "outputs": [],
   "source": [
    "def kmeans_implementation3(x,k, no_of_iterations):\n",
    "    idx = np.random.choice(len(x), k, replace=False)\n",
    "    # print('idx',idx)\n",
    "    #Randomly choosing Centroids \n",
    "    centroids = x[idx, :] #Step 1\n",
    "    display('centroids step1',centroids) \n",
    "    #finding the distance between centroids and all the data points\n",
    "    distances = cdist(x, centroids ,'euclidean') #Step 2\n",
    "    # display('distances step2',distances) \n",
    "    #Centroid with the minimum Distance\n",
    "    points = np.array([np.argmin(i) for i in distances]) #Step 3\n",
    "    # display('points step3',points) \n",
    "    #Repeating the above steps for a defined number of iterations\n",
    "    #Step 4\n",
    "    # fois = 0\n",
    "    for _ in range(no_of_iterations): \n",
    "        centroids = []\n",
    "        # print('list centroids début step 4/5',centroids)\n",
    "        for idx in range(k):\n",
    "            #Updating Centroids by taking mean of Cluster it belongs to\n",
    "            temp_cent = x[points==idx].mean(axis=0) \n",
    "            # display('mean de centroids step 4/5',temp_cent)\n",
    "            centroids.append(temp_cent)\n",
    "            # display('Remplir list centroids step 4/5',centroids)\n",
    " \n",
    "        centroids = np.vstack(centroids) #Updated Centroids \n",
    "        # fois += 1\n",
    "        # display('Update centroids step 4/5',centroids) \n",
    "        # print(fois)\n",
    "        distances = cdist(x, centroids ,'euclidean')\n",
    "        # display('Update distances step 4/5' ,distances)\n",
    "        points = np.array([np.argmin(i) for i in distances])\n",
    "        # display('Update points step 4/5',points) \n",
    "    return points, centroids "
   ]
  },
  {
   "cell_type": "code",
   "execution_count": 127,
   "id": "a9d7ee8a-e62b-4319-a7c2-aa666787aa3e",
   "metadata": {},
   "outputs": [
    {
     "data": {
      "text/plain": [
       "'centroids step1'"
      ]
     },
     "metadata": {},
     "output_type": "display_data"
    },
    {
     "data": {
      "text/plain": [
       "array([[4.7, 1.6],\n",
       "       [6.3, 1.8],\n",
       "       [1.6, 0.2]])"
      ]
     },
     "metadata": {},
     "output_type": "display_data"
    }
   ],
   "source": [
    "points3, centroids3 = kmeans_implementation3(X, 3, 30)"
   ]
  },
  {
   "cell_type": "code",
   "execution_count": 103,
   "id": "1dd0602d-9606-4eb1-8f10-3e013889d6f9",
   "metadata": {},
   "outputs": [
    {
     "data": {
      "text/plain": [
       "array([[1.462     , 0.246     ],\n",
       "       [5.7       , 2.08536585],\n",
       "       [4.35423729, 1.39152542]])"
      ]
     },
     "execution_count": 103,
     "metadata": {},
     "output_type": "execute_result"
    }
   ],
   "source": [
    "centroids3"
   ]
  },
  {
   "cell_type": "markdown",
   "id": "f10adf76-1839-4947-b3ab-789c7b7a36e9",
   "metadata": {},
   "source": [
    "## PLOT FUNCTION "
   ]
  },
  {
   "cell_type": "code",
   "execution_count": 59,
   "id": "5440b315-cadd-45b7-9a54-b3bf44b49eb9",
   "metadata": {},
   "outputs": [],
   "source": [
    "# def kmeans_plot(X, n_clusters, n_iterations):\n",
    "#     pca = PCA(n_components=2)\n",
    "#     components = pca.fit_transform(X)\n",
    "#     points, centroids = kmeans_implementation(X, n_clusters, n_iterations)\n",
    "#     # kmeans = KMeans(n_clusters=3, random_state=0).fit(components)\n",
    "#     # labels = kmeans2.predict(components)\n",
    "#     # centers = np.array(kmeans2.cluster_centers_)\n",
    "#     plt.figure(figsize=(8,6))\n",
    "#     plt.scatter(components[:,0], components[:,1], c= points)\n",
    "#     plt.scatter(centroids[:,0], centroids[:,1], marker=\"x\", color='r')\n",
    "#     plt.show()\n",
    "    "
   ]
  },
  {
   "cell_type": "code",
   "execution_count": 60,
   "id": "021bf564-38dc-4fac-803a-2c8a87467b5a",
   "metadata": {},
   "outputs": [],
   "source": [
    "# def kmeans_plot2(X, n_clusters, n_iterations):\n",
    "#     pca = PCA(n_components=2)\n",
    "#     components = pca.fit_transform(X)\n",
    "#     points, centroids = kmeans_implementation2(X, n_clusters, n_iterations)\n",
    "#     # kmeans = KMeans(n_clusters=3, random_state=0).fit(components)\n",
    "#     # labels = kmeans2.predict(components)\n",
    "#     # centers = np.array(kmeans2.cluster_centers_)\n",
    "#     plt.figure(figsize=(8,6))\n",
    "#     plt.scatter(components[:,0], components[:,1], c= points)\n",
    "#     plt.scatter(centroids[:,0], centroids[:,1], marker=\"x\", color='r')\n",
    "#     plt.show()\n",
    "    "
   ]
  },
  {
   "cell_type": "code",
   "execution_count": 122,
   "id": "454eece7-015e-43b1-a5df-40f95a5bce48",
   "metadata": {},
   "outputs": [],
   "source": [
    "def kmeans_plot3(X, n_clusters, n_iterations):\n",
    "    # pca = PCA(n_components=2)\n",
    "    # components = pca.fit_transform(X)\n",
    "    points, centroids = kmeans_implementation3(X, n_clusters, n_iterations)\n",
    "    # kmeans = KMeans(n_clusters=3, random_state=0).fit(components)\n",
    "    # labels = kmeans2.predict(components)\n",
    "    # centers = np.array(kmeans2.cluster_centers_)\n",
    "    plt.figure(figsize=(8,6))\n",
    "    plt.scatter(X[:,0], X[:,1], c= points, alpha= 0.9)\n",
    "    # plt.scatter(components[:,0], components[:,1], c= points)\n",
    "    plt.scatter(centroids[:,0], centroids[:,1], marker=\"x\", color='r')\n",
    "    plt.show()\n",
    "    "
   ]
  },
  {
   "cell_type": "code",
   "execution_count": 128,
   "id": "aef2233a-6bde-4eda-9d63-85e08e45008f",
   "metadata": {},
   "outputs": [
    {
     "data": {
      "text/plain": [
       "'centroids step1'"
      ]
     },
     "metadata": {},
     "output_type": "display_data"
    },
    {
     "data": {
      "text/plain": [
       "array([[4.3, 1.3],\n",
       "       [4.7, 1.5],\n",
       "       [6.7, 2. ]])"
      ]
     },
     "metadata": {},
     "output_type": "display_data"
    },
    {
     "data": {
      "image/png": "[encoded data removed]",
      "text/plain": [
       "<Figure size 576x432 with 1 Axes>"
      ]
     },
     "metadata": {
      "needs_background": "light"
     },
     "output_type": "display_data"
    }
   ],
   "source": [
    "kmeans_plot3(X, 3, 100)"
   ]
  },
  {
   "cell_type": "code",
   "execution_count": 139,
   "id": "c2b81f05-baff-44a9-ad80-7789c6589a2c",
   "metadata": {},
   "outputs": [
    {
     "data": {
      "text/plain": [
       "'centroids step1'"
      ]
     },
     "metadata": {},
     "output_type": "display_data"
    },
    {
     "data": {
      "text/plain": [
       "array([[ 0.87305123,  4.71438583],\n",
       "       [-2.52711936,  1.37311116],\n",
       "       [ 0.63633194,  4.25441021]])"
      ]
     },
     "metadata": {},
     "output_type": "display_data"
    },
    {
     "data": {
      "image/png": "[encoded data removed]",
      "text/plain": [
       "<Figure size 576x432 with 1 Axes>"
      ]
     },
     "metadata": {
      "needs_background": "light"
     },
     "output_type": "display_data"
    }
   ],
   "source": [
    "kmeans_plot3(X, 3, 1000)"
   ]
  }
 ],
 "metadata": {
  "kernelspec": {
   "display_name": "Python 3 (ipykernel)",
   "language": "python",
   "name": "python3"
  },
  "language_info": {
   "codemirror_mode": {
    "name": "ipython",
    "version": 3
   },
   "file_extension": ".py",
   "mimetype": "text/x-python",
   "name": "python",
   "nbconvert_exporter": "python",
   "pygments_lexer": "ipython3",
   "version": "3.9.7"
  }
 },
 "nbformat": 4,
 "nbformat_minor": 5
}
